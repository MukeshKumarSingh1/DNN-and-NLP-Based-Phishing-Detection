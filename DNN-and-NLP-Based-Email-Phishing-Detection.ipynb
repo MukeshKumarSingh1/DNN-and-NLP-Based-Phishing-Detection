{
 "cells": [
  {
   "cell_type": "code",
   "execution_count": 1,
   "id": "6bc06ea1-e2f2-4f05-a970-eaf412832ab3",
   "metadata": {},
   "outputs": [
    {
     "name": "stderr",
     "output_type": "stream",
     "text": [
      "2025-02-12 16:03:36.977208: I tensorflow/core/platform/cpu_feature_guard.cc:182] This TensorFlow binary is optimized to use available CPU instructions in performance-critical operations.\n",
      "To enable the following instructions: SSE4.1 SSE4.2 AVX AVX2 AVX_VNNI FMA, in other operations, rebuild TensorFlow with the appropriate compiler flags.\n"
     ]
    }
   ],
   "source": [
    "import os\n",
    "import re\n",
    "import time\n",
    "import whois\n",
    "import pickle\n",
    "import random\n",
    "import requests\n",
    "import ipaddress\n",
    "import numpy as np\n",
    "import dns.resolver\n",
    "import pandas as pd\n",
    "import seaborn as sns\n",
    "import tensorflow as tf\n",
    "import concurrent.futures\n",
    "from datetime import datetime\n",
    "from urllib.parse import urlparse\n",
    "from gensim.models import Word2Vec\n",
    "from keras.preprocessing.text import Tokenizer\n",
    "from sklearn.preprocessing import LabelEncoder\n",
    "from concurrent.futures import ThreadPoolExecutor\n",
    "from sklearn.preprocessing import StandardScaler\n",
    "from tensorflow.keras.optimizers import Adam\n",
    "from tensorflow.keras.models import Sequential\n",
    "from tensorflow.keras.callbacks import EarlyStopping\n",
    "from tensorflow.keras.preprocessing.text import Tokenizer\n",
    "from sklearn.feature_extraction.text import TfidfVectorizer\n",
    "from tensorflow.keras.preprocessing.sequence import pad_sequences\n",
    "from tensorflow.keras.layers import Embedding, Dense, Dropout, Flatten, BatchNormalization"
   ]
  },
  {
   "cell_type": "code",
   "execution_count": 2,
   "id": "0b572786-a76a-4b4d-b53a-e5d5212bccc9",
   "metadata": {},
   "outputs": [],
   "source": [
    "import os\n",
    "os.environ['TF_CPP_MIN_LOG_LEVEL'] = '2'  # Suppress most TensorFlow logs\n"
   ]
  },
  {
   "cell_type": "markdown",
   "id": "7aebc799-da47-4eec-a1cc-513f79cf9818",
   "metadata": {},
   "source": [
    "## Data Loading"
   ]
  },
  {
   "cell_type": "code",
   "execution_count": 3,
   "id": "b5fc421d-663d-4e23-b3d3-3fdec2f2d903",
   "metadata": {},
   "outputs": [
    {
     "name": "stdout",
     "output_type": "stream",
     "text": [
      "                 sender              receiver        date  \\\n",
      "0  kt4makf7@hotmail.com    zz4pcd76@gmail.com  2019-02-19   \n",
      "1  qpsu80x5@outlook.com  hivq6q6n@outlook.com  2021-04-23   \n",
      "2    tsr596ly@gmail.com  hutnj7f9@hotmail.com  2019-02-01   \n",
      "3    p6x3hskt@gmail.com    rn9xj56s@yahoo.com  2020-02-01   \n",
      "4    kyni1nhy@gmail.com    afn53n7r@gmail.com  2022-01-21   \n",
      "\n",
      "                 subject                                               body  \\\n",
      "0  Urgent Account Notice  Greetings,\\n\\nCongratulations! You are eligibl...   \n",
      "1    Your Account Update  Dear Valued Customer,\\n\\nWe hope you're enjoyi...   \n",
      "2  Urgent Account Notice  Attention,\\n\\nYour account password has been c...   \n",
      "3    Your Account Update  Greetings,\\n\\nThank you for subscribing to our...   \n",
      "4    Your Account Update  Hi,\\n\\nWe noticed you changed your account set...   \n",
      "\n",
      "                                             urls  label  \n",
      "0                  http://wyyrdcefgl.duckdns.org/      1  \n",
      "1                          https://example397.com      0  \n",
      "2  https://www4.netstation-aplcuos.com/login.html      1  \n",
      "3                          https://example922.com      0  \n",
      "4                          https://example505.com      0  \n"
     ]
    }
   ],
   "source": [
    "# Specify the file name or path\n",
    "input_file = 'Data_gen/data_output/phishing_email_dataset.csv'  # Replace with the path to your .csv file\n",
    "\n",
    "# Load the CSV into a DataFrame\n",
    "df = pd.read_csv(input_file)\n",
    "\n",
    "# Display the first few rows of the DataFrame\n",
    "print(df.head())"
   ]
  },
  {
   "cell_type": "code",
   "execution_count": 4,
   "id": "e0169260-f736-4ba4-9cb6-266e4bac5e6c",
   "metadata": {},
   "outputs": [],
   "source": [
    "# Remove rows where the 'url' column contains the specific value\n",
    "df = df[df['urls'] != 'https://hrijg.zlcc0626.cn/']\n",
    "df = df[df['urls'] != 'https://hello-world-long-lab-f788.fdsgds-b06.workers.dev/']\n",
    "df = df[df['urls'] != 'https://example982.com']\n",
    "df = df[df['urls'] != 'https://example191.com']\n",
    "df = df[df['urls'] != 'http://ezxxaefdjk.duckdns.org/']"
   ]
  },
  {
   "cell_type": "code",
   "execution_count": 5,
   "id": "9569d45e-547a-403e-9645-f34612b1ebe7",
   "metadata": {},
   "outputs": [
    {
     "data": {
      "text/plain": [
       "(439564, 7)"
      ]
     },
     "execution_count": 5,
     "metadata": {},
     "output_type": "execute_result"
    }
   ],
   "source": [
    "df.shape"
   ]
  },
  {
   "cell_type": "code",
   "execution_count": 6,
   "id": "af11216d-119c-4572-9449-f949ce998f48",
   "metadata": {},
   "outputs": [
    {
     "name": "stdout",
     "output_type": "stream",
     "text": [
      "label\n",
      "1    220006\n",
      "0    220006\n",
      "Name: count, dtype: int64\n"
     ]
    }
   ],
   "source": [
    "#Verifying Balance dataset or not\n",
    "# Load the balanced dataset\n",
    "balanced_df = pd.read_csv(\"Data_gen/data_output/phishing_email_dataset.csv\")\n",
    "\n",
    "# Check label distribution\n",
    "print(balanced_df['label'].value_counts())\n"
   ]
  },
  {
   "cell_type": "code",
   "execution_count": 7,
   "id": "66f7d82f-2784-4fc8-8323-8231600243a6",
   "metadata": {},
   "outputs": [
    {
     "data": {
      "text/html": [
       "<div>\n",
       "<style scoped>\n",
       "    .dataframe tbody tr th:only-of-type {\n",
       "        vertical-align: middle;\n",
       "    }\n",
       "\n",
       "    .dataframe tbody tr th {\n",
       "        vertical-align: top;\n",
       "    }\n",
       "\n",
       "    .dataframe thead th {\n",
       "        text-align: right;\n",
       "    }\n",
       "</style>\n",
       "<table border=\"1\" class=\"dataframe\">\n",
       "  <thead>\n",
       "    <tr style=\"text-align: right;\">\n",
       "      <th></th>\n",
       "      <th>sender</th>\n",
       "      <th>receiver</th>\n",
       "      <th>date</th>\n",
       "      <th>subject</th>\n",
       "      <th>body</th>\n",
       "      <th>urls</th>\n",
       "    </tr>\n",
       "  </thead>\n",
       "  <tbody>\n",
       "    <tr>\n",
       "      <th>count</th>\n",
       "      <td>439564</td>\n",
       "      <td>439564</td>\n",
       "      <td>439564</td>\n",
       "      <td>439564</td>\n",
       "      <td>439564</td>\n",
       "      <td>439564</td>\n",
       "    </tr>\n",
       "    <tr>\n",
       "      <th>unique</th>\n",
       "      <td>439564</td>\n",
       "      <td>439564</td>\n",
       "      <td>2191</td>\n",
       "      <td>2</td>\n",
       "      <td>221709</td>\n",
       "      <td>212606</td>\n",
       "    </tr>\n",
       "    <tr>\n",
       "      <th>top</th>\n",
       "      <td>kt4makf7@hotmail.com</td>\n",
       "      <td>zz4pcd76@gmail.com</td>\n",
       "      <td>2021-07-23</td>\n",
       "      <td>Urgent Account Notice</td>\n",
       "      <td>Greetings,\\n\\nThank you for subscribing to our...</td>\n",
       "      <td>https://example216.com</td>\n",
       "    </tr>\n",
       "    <tr>\n",
       "      <th>freq</th>\n",
       "      <td>1</td>\n",
       "      <td>1</td>\n",
       "      <td>251</td>\n",
       "      <td>220001</td>\n",
       "      <td>83</td>\n",
       "      <td>271</td>\n",
       "    </tr>\n",
       "  </tbody>\n",
       "</table>\n",
       "</div>"
      ],
      "text/plain": [
       "                      sender            receiver        date  \\\n",
       "count                 439564              439564      439564   \n",
       "unique                439564              439564        2191   \n",
       "top     kt4makf7@hotmail.com  zz4pcd76@gmail.com  2021-07-23   \n",
       "freq                       1                   1         251   \n",
       "\n",
       "                      subject  \\\n",
       "count                  439564   \n",
       "unique                      2   \n",
       "top     Urgent Account Notice   \n",
       "freq                   220001   \n",
       "\n",
       "                                                     body  \\\n",
       "count                                              439564   \n",
       "unique                                             221709   \n",
       "top     Greetings,\\n\\nThank you for subscribing to our...   \n",
       "freq                                                   83   \n",
       "\n",
       "                          urls  \n",
       "count                   439564  \n",
       "unique                  212606  \n",
       "top     https://example216.com  \n",
       "freq                       271  "
      ]
     },
     "execution_count": 7,
     "metadata": {},
     "output_type": "execute_result"
    }
   ],
   "source": [
    "# check the summary of statistics for all the columns in a DataFrame that have an object data type. \n",
    "df.describe(include=[\"object\"])"
   ]
  },
  {
   "cell_type": "code",
   "execution_count": 8,
   "id": "be8d5a52-cc9b-442a-b8fd-0833fb6f5bc9",
   "metadata": {},
   "outputs": [
    {
     "data": {
      "text/html": [
       "<div>\n",
       "<style scoped>\n",
       "    .dataframe tbody tr th:only-of-type {\n",
       "        vertical-align: middle;\n",
       "    }\n",
       "\n",
       "    .dataframe tbody tr th {\n",
       "        vertical-align: top;\n",
       "    }\n",
       "\n",
       "    .dataframe thead th {\n",
       "        text-align: right;\n",
       "    }\n",
       "</style>\n",
       "<table border=\"1\" class=\"dataframe\">\n",
       "  <thead>\n",
       "    <tr style=\"text-align: right;\">\n",
       "      <th></th>\n",
       "      <th>sender</th>\n",
       "      <th>receiver</th>\n",
       "      <th>date</th>\n",
       "      <th>subject</th>\n",
       "      <th>body</th>\n",
       "      <th>urls</th>\n",
       "      <th>label</th>\n",
       "    </tr>\n",
       "  </thead>\n",
       "  <tbody>\n",
       "    <tr>\n",
       "      <th>0</th>\n",
       "      <td>kt4makf7@hotmail.com</td>\n",
       "      <td>zz4pcd76@gmail.com</td>\n",
       "      <td>2019-02-19</td>\n",
       "      <td>Urgent Account Notice</td>\n",
       "      <td>Greetings,\\n\\nCongratulations! You are eligibl...</td>\n",
       "      <td>http://wyyrdcefgl.duckdns.org/</td>\n",
       "      <td>1</td>\n",
       "    </tr>\n",
       "    <tr>\n",
       "      <th>1</th>\n",
       "      <td>qpsu80x5@outlook.com</td>\n",
       "      <td>hivq6q6n@outlook.com</td>\n",
       "      <td>2021-04-23</td>\n",
       "      <td>Your Account Update</td>\n",
       "      <td>Dear Valued Customer,\\n\\nWe hope you're enjoyi...</td>\n",
       "      <td>https://example397.com</td>\n",
       "      <td>0</td>\n",
       "    </tr>\n",
       "    <tr>\n",
       "      <th>2</th>\n",
       "      <td>tsr596ly@gmail.com</td>\n",
       "      <td>hutnj7f9@hotmail.com</td>\n",
       "      <td>2019-02-01</td>\n",
       "      <td>Urgent Account Notice</td>\n",
       "      <td>Attention,\\n\\nYour account password has been c...</td>\n",
       "      <td>https://www4.netstation-aplcuos.com/login.html</td>\n",
       "      <td>1</td>\n",
       "    </tr>\n",
       "    <tr>\n",
       "      <th>3</th>\n",
       "      <td>p6x3hskt@gmail.com</td>\n",
       "      <td>rn9xj56s@yahoo.com</td>\n",
       "      <td>2020-02-01</td>\n",
       "      <td>Your Account Update</td>\n",
       "      <td>Greetings,\\n\\nThank you for subscribing to our...</td>\n",
       "      <td>https://example922.com</td>\n",
       "      <td>0</td>\n",
       "    </tr>\n",
       "    <tr>\n",
       "      <th>4</th>\n",
       "      <td>kyni1nhy@gmail.com</td>\n",
       "      <td>afn53n7r@gmail.com</td>\n",
       "      <td>2022-01-21</td>\n",
       "      <td>Your Account Update</td>\n",
       "      <td>Hi,\\n\\nWe noticed you changed your account set...</td>\n",
       "      <td>https://example505.com</td>\n",
       "      <td>0</td>\n",
       "    </tr>\n",
       "  </tbody>\n",
       "</table>\n",
       "</div>"
      ],
      "text/plain": [
       "                 sender              receiver        date  \\\n",
       "0  kt4makf7@hotmail.com    zz4pcd76@gmail.com  2019-02-19   \n",
       "1  qpsu80x5@outlook.com  hivq6q6n@outlook.com  2021-04-23   \n",
       "2    tsr596ly@gmail.com  hutnj7f9@hotmail.com  2019-02-01   \n",
       "3    p6x3hskt@gmail.com    rn9xj56s@yahoo.com  2020-02-01   \n",
       "4    kyni1nhy@gmail.com    afn53n7r@gmail.com  2022-01-21   \n",
       "\n",
       "                 subject                                               body  \\\n",
       "0  Urgent Account Notice  Greetings,\\n\\nCongratulations! You are eligibl...   \n",
       "1    Your Account Update  Dear Valued Customer,\\n\\nWe hope you're enjoyi...   \n",
       "2  Urgent Account Notice  Attention,\\n\\nYour account password has been c...   \n",
       "3    Your Account Update  Greetings,\\n\\nThank you for subscribing to our...   \n",
       "4    Your Account Update  Hi,\\n\\nWe noticed you changed your account set...   \n",
       "\n",
       "                                             urls  label  \n",
       "0                  http://wyyrdcefgl.duckdns.org/      1  \n",
       "1                          https://example397.com      0  \n",
       "2  https://www4.netstation-aplcuos.com/login.html      1  \n",
       "3                          https://example922.com      0  \n",
       "4                          https://example505.com      0  "
      ]
     },
     "execution_count": 8,
     "metadata": {},
     "output_type": "execute_result"
    }
   ],
   "source": [
    "df.head()"
   ]
  },
  {
   "cell_type": "markdown",
   "id": "f74bb2da-28c7-4909-926a-5e61f1432df4",
   "metadata": {},
   "source": [
    "## Data Cleaning"
   ]
  },
  {
   "cell_type": "code",
   "execution_count": 9,
   "id": "b41b93ac-7811-461a-88ea-edd639b7029c",
   "metadata": {},
   "outputs": [
    {
     "data": {
      "text/plain": [
       "array([1, 0])"
      ]
     },
     "execution_count": 9,
     "metadata": {},
     "output_type": "execute_result"
    }
   ],
   "source": [
    "df['label'].unique()"
   ]
  },
  {
   "cell_type": "code",
   "execution_count": 10,
   "id": "fda2f78f-55e2-44f2-8117-89c3351d9814",
   "metadata": {},
   "outputs": [],
   "source": [
    "# Remove rows where sender or receiver is blank or contains 'Unknown'\n",
    "df = df[(df['sender'].str.strip() != \"\") & (df['sender'] != \"Unknown\") & (df['receiver'].str.strip() != \"\") & (df['receiver'] != \"Unknown\")]\n"
   ]
  },
  {
   "cell_type": "code",
   "execution_count": 11,
   "id": "1bb5af7a-8231-4056-b18d-6e3dedbef7ca",
   "metadata": {},
   "outputs": [
    {
     "name": "stdout",
     "output_type": "stream",
     "text": [
      "Missing values per column:\n",
      "sender      0\n",
      "receiver    0\n",
      "date        0\n",
      "subject     0\n",
      "body        0\n",
      "urls        0\n",
      "label       0\n",
      "dtype: int64\n"
     ]
    }
   ],
   "source": [
    "# Recheck for missing values in each column\n",
    "missing_values = df.isnull().sum()\n",
    "print(\"Missing values per column:\")\n",
    "print(missing_values)"
   ]
  },
  {
   "cell_type": "code",
   "execution_count": 12,
   "id": "104b2ddf-2d6b-4d0b-9d5c-1885311c6dbc",
   "metadata": {},
   "outputs": [],
   "source": [
    "    \n",
    "# Remove rows where any column is blank\n",
    "df = df[~(df.apply(lambda x: x.astype(str).str.strip() == \"\")).any(axis=1)]"
   ]
  },
  {
   "cell_type": "code",
   "execution_count": 13,
   "id": "a5f5726c-6760-405b-9fbf-8dd3f9f0293c",
   "metadata": {},
   "outputs": [
    {
     "name": "stdout",
     "output_type": "stream",
     "text": [
      "Missing values per column:\n",
      "sender      0\n",
      "receiver    0\n",
      "date        0\n",
      "subject     0\n",
      "body        0\n",
      "urls        0\n",
      "label       0\n",
      "dtype: int64\n"
     ]
    }
   ],
   "source": [
    "# Recheck for missing values in each column\n",
    "missing_values = df.isnull().sum()\n",
    "print(\"Missing values per column:\")\n",
    "print(missing_values)"
   ]
  },
  {
   "cell_type": "code",
   "execution_count": 14,
   "id": "fad2547a-e933-4da4-bc2d-224fe6f8a01a",
   "metadata": {},
   "outputs": [],
   "source": [
    "# Drop all rows with missing (NaN) values\n",
    "df.dropna(inplace=True)"
   ]
  },
  {
   "cell_type": "code",
   "execution_count": 15,
   "id": "c0e1d025-8c86-46ea-b442-8d3c839e36b8",
   "metadata": {},
   "outputs": [
    {
     "name": "stdout",
     "output_type": "stream",
     "text": [
      "Missing values per column:\n",
      "sender      0\n",
      "receiver    0\n",
      "date        0\n",
      "subject     0\n",
      "body        0\n",
      "urls        0\n",
      "label       0\n",
      "dtype: int64\n"
     ]
    }
   ],
   "source": [
    "# Recheck for missing values in each column\n",
    "missing_values = df.isnull().sum()\n",
    "print(\"Missing values per column:\")\n",
    "print(missing_values)"
   ]
  },
  {
   "cell_type": "code",
   "execution_count": 16,
   "id": "0f030f47-c224-454d-bee9-b8c7252f4fd1",
   "metadata": {},
   "outputs": [
    {
     "data": {
      "text/plain": [
       "(439564, 7)"
      ]
     },
     "execution_count": 16,
     "metadata": {},
     "output_type": "execute_result"
    }
   ],
   "source": [
    "df.shape"
   ]
  },
  {
   "cell_type": "code",
   "execution_count": 17,
   "id": "cc92a2b2-7edd-4379-b4b5-6ae74e0a0f4b",
   "metadata": {},
   "outputs": [
    {
     "data": {
      "text/html": [
       "<div>\n",
       "<style scoped>\n",
       "    .dataframe tbody tr th:only-of-type {\n",
       "        vertical-align: middle;\n",
       "    }\n",
       "\n",
       "    .dataframe tbody tr th {\n",
       "        vertical-align: top;\n",
       "    }\n",
       "\n",
       "    .dataframe thead th {\n",
       "        text-align: right;\n",
       "    }\n",
       "</style>\n",
       "<table border=\"1\" class=\"dataframe\">\n",
       "  <thead>\n",
       "    <tr style=\"text-align: right;\">\n",
       "      <th></th>\n",
       "      <th>sender</th>\n",
       "      <th>receiver</th>\n",
       "      <th>date</th>\n",
       "      <th>subject</th>\n",
       "      <th>body</th>\n",
       "      <th>urls</th>\n",
       "      <th>label</th>\n",
       "    </tr>\n",
       "  </thead>\n",
       "  <tbody>\n",
       "    <tr>\n",
       "      <th>0</th>\n",
       "      <td>kt4makf7@hotmail.com</td>\n",
       "      <td>zz4pcd76@gmail.com</td>\n",
       "      <td>2019-02-19</td>\n",
       "      <td>Urgent Account Notice</td>\n",
       "      <td>Greetings,\\n\\nCongratulations! You are eligibl...</td>\n",
       "      <td>http://wyyrdcefgl.duckdns.org/</td>\n",
       "      <td>1</td>\n",
       "    </tr>\n",
       "    <tr>\n",
       "      <th>1</th>\n",
       "      <td>qpsu80x5@outlook.com</td>\n",
       "      <td>hivq6q6n@outlook.com</td>\n",
       "      <td>2021-04-23</td>\n",
       "      <td>Your Account Update</td>\n",
       "      <td>Dear Valued Customer,\\n\\nWe hope you're enjoyi...</td>\n",
       "      <td>https://example397.com</td>\n",
       "      <td>0</td>\n",
       "    </tr>\n",
       "    <tr>\n",
       "      <th>2</th>\n",
       "      <td>tsr596ly@gmail.com</td>\n",
       "      <td>hutnj7f9@hotmail.com</td>\n",
       "      <td>2019-02-01</td>\n",
       "      <td>Urgent Account Notice</td>\n",
       "      <td>Attention,\\n\\nYour account password has been c...</td>\n",
       "      <td>https://www4.netstation-aplcuos.com/login.html</td>\n",
       "      <td>1</td>\n",
       "    </tr>\n",
       "    <tr>\n",
       "      <th>3</th>\n",
       "      <td>p6x3hskt@gmail.com</td>\n",
       "      <td>rn9xj56s@yahoo.com</td>\n",
       "      <td>2020-02-01</td>\n",
       "      <td>Your Account Update</td>\n",
       "      <td>Greetings,\\n\\nThank you for subscribing to our...</td>\n",
       "      <td>https://example922.com</td>\n",
       "      <td>0</td>\n",
       "    </tr>\n",
       "    <tr>\n",
       "      <th>4</th>\n",
       "      <td>kyni1nhy@gmail.com</td>\n",
       "      <td>afn53n7r@gmail.com</td>\n",
       "      <td>2022-01-21</td>\n",
       "      <td>Your Account Update</td>\n",
       "      <td>Hi,\\n\\nWe noticed you changed your account set...</td>\n",
       "      <td>https://example505.com</td>\n",
       "      <td>0</td>\n",
       "    </tr>\n",
       "  </tbody>\n",
       "</table>\n",
       "</div>"
      ],
      "text/plain": [
       "                 sender              receiver        date  \\\n",
       "0  kt4makf7@hotmail.com    zz4pcd76@gmail.com  2019-02-19   \n",
       "1  qpsu80x5@outlook.com  hivq6q6n@outlook.com  2021-04-23   \n",
       "2    tsr596ly@gmail.com  hutnj7f9@hotmail.com  2019-02-01   \n",
       "3    p6x3hskt@gmail.com    rn9xj56s@yahoo.com  2020-02-01   \n",
       "4    kyni1nhy@gmail.com    afn53n7r@gmail.com  2022-01-21   \n",
       "\n",
       "                 subject                                               body  \\\n",
       "0  Urgent Account Notice  Greetings,\\n\\nCongratulations! You are eligibl...   \n",
       "1    Your Account Update  Dear Valued Customer,\\n\\nWe hope you're enjoyi...   \n",
       "2  Urgent Account Notice  Attention,\\n\\nYour account password has been c...   \n",
       "3    Your Account Update  Greetings,\\n\\nThank you for subscribing to our...   \n",
       "4    Your Account Update  Hi,\\n\\nWe noticed you changed your account set...   \n",
       "\n",
       "                                             urls  label  \n",
       "0                  http://wyyrdcefgl.duckdns.org/      1  \n",
       "1                          https://example397.com      0  \n",
       "2  https://www4.netstation-aplcuos.com/login.html      1  \n",
       "3                          https://example922.com      0  \n",
       "4                          https://example505.com      0  "
      ]
     },
     "execution_count": 17,
     "metadata": {},
     "output_type": "execute_result"
    }
   ],
   "source": [
    "df.head()"
   ]
  },
  {
   "cell_type": "code",
   "execution_count": 18,
   "id": "2a168505-c019-4bb8-bef8-fb018720d32c",
   "metadata": {},
   "outputs": [
    {
     "data": {
      "text/html": [
       "<div>\n",
       "<style scoped>\n",
       "    .dataframe tbody tr th:only-of-type {\n",
       "        vertical-align: middle;\n",
       "    }\n",
       "\n",
       "    .dataframe tbody tr th {\n",
       "        vertical-align: top;\n",
       "    }\n",
       "\n",
       "    .dataframe thead th {\n",
       "        text-align: right;\n",
       "    }\n",
       "</style>\n",
       "<table border=\"1\" class=\"dataframe\">\n",
       "  <thead>\n",
       "    <tr style=\"text-align: right;\">\n",
       "      <th></th>\n",
       "      <th>label</th>\n",
       "    </tr>\n",
       "  </thead>\n",
       "  <tbody>\n",
       "    <tr>\n",
       "      <th>count</th>\n",
       "      <td>439564.000000</td>\n",
       "    </tr>\n",
       "    <tr>\n",
       "      <th>mean</th>\n",
       "      <td>0.500498</td>\n",
       "    </tr>\n",
       "    <tr>\n",
       "      <th>std</th>\n",
       "      <td>0.500000</td>\n",
       "    </tr>\n",
       "    <tr>\n",
       "      <th>min</th>\n",
       "      <td>0.000000</td>\n",
       "    </tr>\n",
       "    <tr>\n",
       "      <th>25%</th>\n",
       "      <td>0.000000</td>\n",
       "    </tr>\n",
       "    <tr>\n",
       "      <th>50%</th>\n",
       "      <td>1.000000</td>\n",
       "    </tr>\n",
       "    <tr>\n",
       "      <th>75%</th>\n",
       "      <td>1.000000</td>\n",
       "    </tr>\n",
       "    <tr>\n",
       "      <th>max</th>\n",
       "      <td>1.000000</td>\n",
       "    </tr>\n",
       "  </tbody>\n",
       "</table>\n",
       "</div>"
      ],
      "text/plain": [
       "               label\n",
       "count  439564.000000\n",
       "mean        0.500498\n",
       "std         0.500000\n",
       "min         0.000000\n",
       "25%         0.000000\n",
       "50%         1.000000\n",
       "75%         1.000000\n",
       "max         1.000000"
      ]
     },
     "execution_count": 18,
     "metadata": {},
     "output_type": "execute_result"
    }
   ],
   "source": [
    "#df.describe() method in pandas provides a summary of statistics for numerical columns in the DataFrame by default.\n",
    "df.describe()"
   ]
  },
  {
   "cell_type": "code",
   "execution_count": 19,
   "id": "42b18db2-f20e-4322-982e-1bd62af122e2",
   "metadata": {},
   "outputs": [
    {
     "name": "stdout",
     "output_type": "stream",
     "text": [
      "<class 'pandas.core.frame.DataFrame'>\n",
      "Index: 439564 entries, 0 to 440011\n",
      "Data columns (total 7 columns):\n",
      " #   Column    Non-Null Count   Dtype \n",
      "---  ------    --------------   ----- \n",
      " 0   sender    439564 non-null  object\n",
      " 1   receiver  439564 non-null  object\n",
      " 2   date      439564 non-null  object\n",
      " 3   subject   439564 non-null  object\n",
      " 4   body      439564 non-null  object\n",
      " 5   urls      439564 non-null  object\n",
      " 6   label     439564 non-null  int64 \n",
      "dtypes: int64(1), object(6)\n",
      "memory usage: 26.8+ MB\n"
     ]
    }
   ],
   "source": [
    "df.info()"
   ]
  },
  {
   "cell_type": "code",
   "execution_count": 20,
   "id": "2fa0a4a9-256e-42c4-a974-fe1189bffa05",
   "metadata": {},
   "outputs": [],
   "source": [
    "# Convert 'sender' and 'receiver' to categorical codes\n",
    "df['sender'] = df['sender'].astype('category').cat.codes\n",
    "df['receiver'] = df['receiver'].astype('category').cat.codes"
   ]
  },
  {
   "cell_type": "code",
   "execution_count": 21,
   "id": "d0cddd67-0ea1-4273-ac28-0622df0cab0b",
   "metadata": {},
   "outputs": [],
   "source": [
    "# Convert categorical columns to numeric\n",
    "df['sender'] = df['sender'].astype('category').cat.codes\n",
    "df['receiver'] = df['receiver'].astype('category').cat.codes\n",
    "df['label'] = df['label'].astype('category').cat.codes"
   ]
  },
  {
   "cell_type": "code",
   "execution_count": 22,
   "id": "203a1fd6-7ad1-476c-8522-6d2ee1e17bd2",
   "metadata": {},
   "outputs": [],
   "source": [
    "# Convert 'date' to a numeric timestamp\n",
    "df['date'] = pd.to_datetime(df['date'], errors='coerce').astype('int64', errors='ignore')"
   ]
  },
  {
   "cell_type": "code",
   "execution_count": 23,
   "id": "b60a04a7-2b37-449e-a5d8-93933be7cb7f",
   "metadata": {},
   "outputs": [],
   "source": [
    "# Convert 'label' to categorical codes\n",
    "df['label'] = df['label'].astype('category').cat.codes"
   ]
  },
  {
   "cell_type": "code",
   "execution_count": 24,
   "id": "278acde3-d6ed-4c28-9db0-ddd80b7181ee",
   "metadata": {},
   "outputs": [
    {
     "name": "stdout",
     "output_type": "stream",
     "text": [
      "<class 'pandas.core.frame.DataFrame'>\n",
      "Index: 439564 entries, 0 to 440011\n",
      "Data columns (total 7 columns):\n",
      " #   Column    Non-Null Count   Dtype \n",
      "---  ------    --------------   ----- \n",
      " 0   sender    439564 non-null  int32 \n",
      " 1   receiver  439564 non-null  int32 \n",
      " 2   date      439564 non-null  int64 \n",
      " 3   subject   439564 non-null  object\n",
      " 4   body      439564 non-null  object\n",
      " 5   urls      439564 non-null  object\n",
      " 6   label     439564 non-null  int8  \n",
      "dtypes: int32(2), int64(1), int8(1), object(3)\n",
      "memory usage: 20.5+ MB\n"
     ]
    }
   ],
   "source": [
    "df.info()"
   ]
  },
  {
   "cell_type": "code",
   "execution_count": 25,
   "id": "97d0f27c-bc86-41fb-9cdf-5a29892aef13",
   "metadata": {},
   "outputs": [],
   "source": [
    "#extract the urls fro body column and add the urls to the extracted_url column\n",
    "#    Address Bar based Features\n",
    "#    Domain based Features\n",
    "#    HTML & Javascript based Features\n",
    "# Function to extract the first URL from the body\n",
    "\n",
    "def extract_url(text):\n",
    "    url_pattern = r'(https?://\\S+)'  # Regex pattern to find URLs\n",
    "    match = re.search(url_pattern, str(text))\n",
    "    return match.group(0) if match else None\n",
    "\n",
    "# Apply the function to create a new 'extracted_url' column\n",
    "df['extracted_url'] = df['body'].apply(extract_url)\n",
    "df.dropna(subset=['extracted_url'], inplace=True)"
   ]
  },
  {
   "cell_type": "code",
   "execution_count": 26,
   "id": "11bfa9b7-9392-4d51-9d6d-6bef2d307a5a",
   "metadata": {},
   "outputs": [
    {
     "data": {
      "text/html": [
       "<div>\n",
       "<style scoped>\n",
       "    .dataframe tbody tr th:only-of-type {\n",
       "        vertical-align: middle;\n",
       "    }\n",
       "\n",
       "    .dataframe tbody tr th {\n",
       "        vertical-align: top;\n",
       "    }\n",
       "\n",
       "    .dataframe thead th {\n",
       "        text-align: right;\n",
       "    }\n",
       "</style>\n",
       "<table border=\"1\" class=\"dataframe\">\n",
       "  <thead>\n",
       "    <tr style=\"text-align: right;\">\n",
       "      <th></th>\n",
       "      <th>sender</th>\n",
       "      <th>receiver</th>\n",
       "      <th>date</th>\n",
       "      <th>subject</th>\n",
       "      <th>body</th>\n",
       "      <th>urls</th>\n",
       "      <th>label</th>\n",
       "      <th>extracted_url</th>\n",
       "    </tr>\n",
       "  </thead>\n",
       "  <tbody>\n",
       "    <tr>\n",
       "      <th>0</th>\n",
       "      <td>253920</td>\n",
       "      <td>439286</td>\n",
       "      <td>1550534400000000000</td>\n",
       "      <td>Urgent Account Notice</td>\n",
       "      <td>Greetings,\\n\\nCongratulations! You are eligibl...</td>\n",
       "      <td>http://wyyrdcefgl.duckdns.org/</td>\n",
       "      <td>1</td>\n",
       "      <td>http://wyyrdcefgl.duckdns.org/</td>\n",
       "    </tr>\n",
       "    <tr>\n",
       "      <th>1</th>\n",
       "      <td>326005</td>\n",
       "      <td>213645</td>\n",
       "      <td>1619136000000000000</td>\n",
       "      <td>Your Account Update</td>\n",
       "      <td>Dear Valued Customer,\\n\\nWe hope you're enjoyi...</td>\n",
       "      <td>https://example397.com</td>\n",
       "      <td>0</td>\n",
       "      <td>https://example397.com</td>\n",
       "    </tr>\n",
       "    <tr>\n",
       "      <th>2</th>\n",
       "      <td>363613</td>\n",
       "      <td>217661</td>\n",
       "      <td>1548979200000000000</td>\n",
       "      <td>Urgent Account Notice</td>\n",
       "      <td>Attention,\\n\\nYour account password has been c...</td>\n",
       "      <td>https://www4.netstation-aplcuos.com/login.html</td>\n",
       "      <td>1</td>\n",
       "      <td>https://www4.netstation-aplcuos.com/login.html</td>\n",
       "    </tr>\n",
       "    <tr>\n",
       "      <th>3</th>\n",
       "      <td>307686</td>\n",
       "      <td>337393</td>\n",
       "      <td>1580515200000000000</td>\n",
       "      <td>Your Account Update</td>\n",
       "      <td>Greetings,\\n\\nThank you for subscribing to our...</td>\n",
       "      <td>https://example922.com</td>\n",
       "      <td>0</td>\n",
       "      <td>https://example922.com</td>\n",
       "    </tr>\n",
       "    <tr>\n",
       "      <th>4</th>\n",
       "      <td>255799</td>\n",
       "      <td>126935</td>\n",
       "      <td>1642723200000000000</td>\n",
       "      <td>Your Account Update</td>\n",
       "      <td>Hi,\\n\\nWe noticed you changed your account set...</td>\n",
       "      <td>https://example505.com</td>\n",
       "      <td>0</td>\n",
       "      <td>https://example505.com</td>\n",
       "    </tr>\n",
       "  </tbody>\n",
       "</table>\n",
       "</div>"
      ],
      "text/plain": [
       "   sender  receiver                 date                subject  \\\n",
       "0  253920    439286  1550534400000000000  Urgent Account Notice   \n",
       "1  326005    213645  1619136000000000000    Your Account Update   \n",
       "2  363613    217661  1548979200000000000  Urgent Account Notice   \n",
       "3  307686    337393  1580515200000000000    Your Account Update   \n",
       "4  255799    126935  1642723200000000000    Your Account Update   \n",
       "\n",
       "                                                body  \\\n",
       "0  Greetings,\\n\\nCongratulations! You are eligibl...   \n",
       "1  Dear Valued Customer,\\n\\nWe hope you're enjoyi...   \n",
       "2  Attention,\\n\\nYour account password has been c...   \n",
       "3  Greetings,\\n\\nThank you for subscribing to our...   \n",
       "4  Hi,\\n\\nWe noticed you changed your account set...   \n",
       "\n",
       "                                             urls  label  \\\n",
       "0                  http://wyyrdcefgl.duckdns.org/      1   \n",
       "1                          https://example397.com      0   \n",
       "2  https://www4.netstation-aplcuos.com/login.html      1   \n",
       "3                          https://example922.com      0   \n",
       "4                          https://example505.com      0   \n",
       "\n",
       "                                    extracted_url  \n",
       "0                  http://wyyrdcefgl.duckdns.org/  \n",
       "1                          https://example397.com  \n",
       "2  https://www4.netstation-aplcuos.com/login.html  \n",
       "3                          https://example922.com  \n",
       "4                          https://example505.com  "
      ]
     },
     "execution_count": 26,
     "metadata": {},
     "output_type": "execute_result"
    }
   ],
   "source": [
    "df.head()"
   ]
  },
  {
   "cell_type": "code",
   "execution_count": 27,
   "id": "ef360458-d3f2-4ab2-a3ac-f2b861d18663",
   "metadata": {},
   "outputs": [
    {
     "name": "stdout",
     "output_type": "stream",
     "text": [
      "Total extracted URLs: 439557\n"
     ]
    }
   ],
   "source": [
    "print(\"Total extracted URLs:\", df['extracted_url'].notnull().sum())\n"
   ]
  },
  {
   "cell_type": "code",
   "execution_count": 28,
   "id": "868282cc-8d50-43fa-9ae6-6a8140e98cb6",
   "metadata": {},
   "outputs": [
    {
     "name": "stdout",
     "output_type": "stream",
     "text": [
      "Missing values in 'label' column: 0\n"
     ]
    }
   ],
   "source": [
    "# Check for missing values in the 'label' column\n",
    "missing_labels = df['label'].isnull().sum()\n",
    "print(f\"Missing values in 'label' column: {missing_labels}\")"
   ]
  },
  {
   "cell_type": "code",
   "execution_count": 29,
   "id": "4aa8820d-3e7d-44a4-8f68-cc5d52ee709c",
   "metadata": {},
   "outputs": [],
   "source": [
    "# Function to generate relevant URLs based on sender's domain\n",
    "#def generate_relevant_url(sender):\n",
    "#    if pd.isna(sender) or \"@\" not in str(sender):print(df['body'].isnull().sum())\n",
    "#        return \"https://generic-placeholder.com\"\n",
    "#    domain = str(sender).split(\"@\")[-1].split(\".\")[0]  # Extract domain name\n",
    "#    return f\"https://{domain}.com/login\"\n",
    "\n",
    "# Fill missing 'extracted_url' values with relevant URLs\n",
    "#df['extracted_url'] = df.apply(lambda row: generate_relevant_url(row['sender']) if pd.isna(row['extracted_url']) else row['extracted_url'], axis=1)\n"
   ]
  },
  {
   "cell_type": "code",
   "execution_count": 30,
   "id": "f3a538c1-dc49-4ba3-b92b-cb4afb9fdb3a",
   "metadata": {},
   "outputs": [],
   "source": [
    "# Ensure label column is numeric and assign label 0 to imputed rows\n",
    "#df['label'] = df['label'].fillna(0).astype(int)\n",
    "\n",
    "# Check for missing values in the 'label' column\n",
    "#missing_labels = df['label'].isnull().sum()\n",
    "#print(f\"Missing values in 'label' column: {missing_labels}\")"
   ]
  },
  {
   "cell_type": "code",
   "execution_count": 31,
   "id": "e41a9567-f597-4b3d-8434-026d26d1b807",
   "metadata": {},
   "outputs": [
    {
     "name": "stdout",
     "output_type": "stream",
     "text": [
      "Total extracted URLs: 439557\n"
     ]
    }
   ],
   "source": [
    "print(\"Total extracted URLs:\", df['extracted_url'].notnull().sum())\n"
   ]
  },
  {
   "cell_type": "code",
   "execution_count": 32,
   "id": "10317c11-720f-4e93-88b6-4fcabb330fca",
   "metadata": {},
   "outputs": [
    {
     "name": "stdout",
     "output_type": "stream",
     "text": [
      "Missing values in 'label' column: 0\n"
     ]
    }
   ],
   "source": [
    "# Check for missing values in the 'label' column\n",
    "missing_labels = df['label'].isnull().sum()\n",
    "print(f\"Missing values in 'label' column: {missing_labels}\")"
   ]
  },
  {
   "cell_type": "code",
   "execution_count": 33,
   "id": "97b2b4cb-2145-4571-9771-dc9e1dc78482",
   "metadata": {},
   "outputs": [],
   "source": [
    "# Fill missing values in the 'date' column with today's date\n",
    "df['date'] = df['date'].fillna(datetime.today().strftime('%Y-%m-%d'))\n"
   ]
  },
  {
   "cell_type": "code",
   "execution_count": 34,
   "id": "f9ee6c1e-2bde-421f-b8c7-9cf0cf728465",
   "metadata": {},
   "outputs": [
    {
     "name": "stdout",
     "output_type": "stream",
     "text": [
      "Missing values per column:\n",
      " sender           0\n",
      "receiver         0\n",
      "date             0\n",
      "subject          0\n",
      "body             0\n",
      "urls             0\n",
      "label            0\n",
      "extracted_url    0\n",
      "dtype: int64\n"
     ]
    }
   ],
   "source": [
    "# Check for missing values\n",
    "missing_values = df.isnull().sum()\n",
    "print(\"Missing values per column:\\n\", missing_values)"
   ]
  },
  {
   "cell_type": "code",
   "execution_count": 35,
   "id": "d5d110f9-a95d-4f7c-9918-7ccc4b10e0a8",
   "metadata": {},
   "outputs": [
    {
     "data": {
      "text/html": [
       "<div>\n",
       "<style scoped>\n",
       "    .dataframe tbody tr th:only-of-type {\n",
       "        vertical-align: middle;\n",
       "    }\n",
       "\n",
       "    .dataframe tbody tr th {\n",
       "        vertical-align: top;\n",
       "    }\n",
       "\n",
       "    .dataframe thead th {\n",
       "        text-align: right;\n",
       "    }\n",
       "</style>\n",
       "<table border=\"1\" class=\"dataframe\">\n",
       "  <thead>\n",
       "    <tr style=\"text-align: right;\">\n",
       "      <th></th>\n",
       "      <th>sender</th>\n",
       "      <th>receiver</th>\n",
       "      <th>date</th>\n",
       "      <th>subject</th>\n",
       "      <th>body</th>\n",
       "      <th>urls</th>\n",
       "      <th>label</th>\n",
       "      <th>extracted_url</th>\n",
       "    </tr>\n",
       "  </thead>\n",
       "  <tbody>\n",
       "    <tr>\n",
       "      <th>0</th>\n",
       "      <td>253920</td>\n",
       "      <td>439286</td>\n",
       "      <td>1550534400000000000</td>\n",
       "      <td>Urgent Account Notice</td>\n",
       "      <td>Greetings,\\n\\nCongratulations! You are eligibl...</td>\n",
       "      <td>http://wyyrdcefgl.duckdns.org/</td>\n",
       "      <td>1</td>\n",
       "      <td>http://wyyrdcefgl.duckdns.org/</td>\n",
       "    </tr>\n",
       "    <tr>\n",
       "      <th>1</th>\n",
       "      <td>326005</td>\n",
       "      <td>213645</td>\n",
       "      <td>1619136000000000000</td>\n",
       "      <td>Your Account Update</td>\n",
       "      <td>Dear Valued Customer,\\n\\nWe hope you're enjoyi...</td>\n",
       "      <td>https://example397.com</td>\n",
       "      <td>0</td>\n",
       "      <td>https://example397.com</td>\n",
       "    </tr>\n",
       "    <tr>\n",
       "      <th>2</th>\n",
       "      <td>363613</td>\n",
       "      <td>217661</td>\n",
       "      <td>1548979200000000000</td>\n",
       "      <td>Urgent Account Notice</td>\n",
       "      <td>Attention,\\n\\nYour account password has been c...</td>\n",
       "      <td>https://www4.netstation-aplcuos.com/login.html</td>\n",
       "      <td>1</td>\n",
       "      <td>https://www4.netstation-aplcuos.com/login.html</td>\n",
       "    </tr>\n",
       "    <tr>\n",
       "      <th>3</th>\n",
       "      <td>307686</td>\n",
       "      <td>337393</td>\n",
       "      <td>1580515200000000000</td>\n",
       "      <td>Your Account Update</td>\n",
       "      <td>Greetings,\\n\\nThank you for subscribing to our...</td>\n",
       "      <td>https://example922.com</td>\n",
       "      <td>0</td>\n",
       "      <td>https://example922.com</td>\n",
       "    </tr>\n",
       "    <tr>\n",
       "      <th>4</th>\n",
       "      <td>255799</td>\n",
       "      <td>126935</td>\n",
       "      <td>1642723200000000000</td>\n",
       "      <td>Your Account Update</td>\n",
       "      <td>Hi,\\n\\nWe noticed you changed your account set...</td>\n",
       "      <td>https://example505.com</td>\n",
       "      <td>0</td>\n",
       "      <td>https://example505.com</td>\n",
       "    </tr>\n",
       "  </tbody>\n",
       "</table>\n",
       "</div>"
      ],
      "text/plain": [
       "   sender  receiver                 date                subject  \\\n",
       "0  253920    439286  1550534400000000000  Urgent Account Notice   \n",
       "1  326005    213645  1619136000000000000    Your Account Update   \n",
       "2  363613    217661  1548979200000000000  Urgent Account Notice   \n",
       "3  307686    337393  1580515200000000000    Your Account Update   \n",
       "4  255799    126935  1642723200000000000    Your Account Update   \n",
       "\n",
       "                                                body  \\\n",
       "0  Greetings,\\n\\nCongratulations! You are eligibl...   \n",
       "1  Dear Valued Customer,\\n\\nWe hope you're enjoyi...   \n",
       "2  Attention,\\n\\nYour account password has been c...   \n",
       "3  Greetings,\\n\\nThank you for subscribing to our...   \n",
       "4  Hi,\\n\\nWe noticed you changed your account set...   \n",
       "\n",
       "                                             urls  label  \\\n",
       "0                  http://wyyrdcefgl.duckdns.org/      1   \n",
       "1                          https://example397.com      0   \n",
       "2  https://www4.netstation-aplcuos.com/login.html      1   \n",
       "3                          https://example922.com      0   \n",
       "4                          https://example505.com      0   \n",
       "\n",
       "                                    extracted_url  \n",
       "0                  http://wyyrdcefgl.duckdns.org/  \n",
       "1                          https://example397.com  \n",
       "2  https://www4.netstation-aplcuos.com/login.html  \n",
       "3                          https://example922.com  \n",
       "4                          https://example505.com  "
      ]
     },
     "execution_count": 35,
     "metadata": {},
     "output_type": "execute_result"
    }
   ],
   "source": [
    "df.head()"
   ]
  },
  {
   "cell_type": "code",
   "execution_count": 36,
   "id": "94ffdb30-b76a-4550-9cf5-82e45794655a",
   "metadata": {},
   "outputs": [],
   "source": [
    "#Remove the rows with missing vaues \n",
    "#df = df.dropna(subset=['extracted_url'])"
   ]
  },
  {
   "cell_type": "code",
   "execution_count": 37,
   "id": "07e36f18-537d-4672-8461-b8f67457a67f",
   "metadata": {},
   "outputs": [
    {
     "data": {
      "text/html": [
       "<div>\n",
       "<style scoped>\n",
       "    .dataframe tbody tr th:only-of-type {\n",
       "        vertical-align: middle;\n",
       "    }\n",
       "\n",
       "    .dataframe tbody tr th {\n",
       "        vertical-align: top;\n",
       "    }\n",
       "\n",
       "    .dataframe thead th {\n",
       "        text-align: right;\n",
       "    }\n",
       "</style>\n",
       "<table border=\"1\" class=\"dataframe\">\n",
       "  <thead>\n",
       "    <tr style=\"text-align: right;\">\n",
       "      <th></th>\n",
       "      <th>sender</th>\n",
       "      <th>receiver</th>\n",
       "      <th>date</th>\n",
       "      <th>subject</th>\n",
       "      <th>body</th>\n",
       "      <th>urls</th>\n",
       "      <th>label</th>\n",
       "      <th>extracted_url</th>\n",
       "    </tr>\n",
       "  </thead>\n",
       "  <tbody>\n",
       "    <tr>\n",
       "      <th>0</th>\n",
       "      <td>253920</td>\n",
       "      <td>439286</td>\n",
       "      <td>1550534400000000000</td>\n",
       "      <td>Urgent Account Notice</td>\n",
       "      <td>Greetings,\\n\\nCongratulations! You are eligibl...</td>\n",
       "      <td>http://wyyrdcefgl.duckdns.org/</td>\n",
       "      <td>1</td>\n",
       "      <td>http://wyyrdcefgl.duckdns.org/</td>\n",
       "    </tr>\n",
       "    <tr>\n",
       "      <th>1</th>\n",
       "      <td>326005</td>\n",
       "      <td>213645</td>\n",
       "      <td>1619136000000000000</td>\n",
       "      <td>Your Account Update</td>\n",
       "      <td>Dear Valued Customer,\\n\\nWe hope you're enjoyi...</td>\n",
       "      <td>https://example397.com</td>\n",
       "      <td>0</td>\n",
       "      <td>https://example397.com</td>\n",
       "    </tr>\n",
       "    <tr>\n",
       "      <th>2</th>\n",
       "      <td>363613</td>\n",
       "      <td>217661</td>\n",
       "      <td>1548979200000000000</td>\n",
       "      <td>Urgent Account Notice</td>\n",
       "      <td>Attention,\\n\\nYour account password has been c...</td>\n",
       "      <td>https://www4.netstation-aplcuos.com/login.html</td>\n",
       "      <td>1</td>\n",
       "      <td>https://www4.netstation-aplcuos.com/login.html</td>\n",
       "    </tr>\n",
       "    <tr>\n",
       "      <th>3</th>\n",
       "      <td>307686</td>\n",
       "      <td>337393</td>\n",
       "      <td>1580515200000000000</td>\n",
       "      <td>Your Account Update</td>\n",
       "      <td>Greetings,\\n\\nThank you for subscribing to our...</td>\n",
       "      <td>https://example922.com</td>\n",
       "      <td>0</td>\n",
       "      <td>https://example922.com</td>\n",
       "    </tr>\n",
       "    <tr>\n",
       "      <th>4</th>\n",
       "      <td>255799</td>\n",
       "      <td>126935</td>\n",
       "      <td>1642723200000000000</td>\n",
       "      <td>Your Account Update</td>\n",
       "      <td>Hi,\\n\\nWe noticed you changed your account set...</td>\n",
       "      <td>https://example505.com</td>\n",
       "      <td>0</td>\n",
       "      <td>https://example505.com</td>\n",
       "    </tr>\n",
       "  </tbody>\n",
       "</table>\n",
       "</div>"
      ],
      "text/plain": [
       "   sender  receiver                 date                subject  \\\n",
       "0  253920    439286  1550534400000000000  Urgent Account Notice   \n",
       "1  326005    213645  1619136000000000000    Your Account Update   \n",
       "2  363613    217661  1548979200000000000  Urgent Account Notice   \n",
       "3  307686    337393  1580515200000000000    Your Account Update   \n",
       "4  255799    126935  1642723200000000000    Your Account Update   \n",
       "\n",
       "                                                body  \\\n",
       "0  Greetings,\\n\\nCongratulations! You are eligibl...   \n",
       "1  Dear Valued Customer,\\n\\nWe hope you're enjoyi...   \n",
       "2  Attention,\\n\\nYour account password has been c...   \n",
       "3  Greetings,\\n\\nThank you for subscribing to our...   \n",
       "4  Hi,\\n\\nWe noticed you changed your account set...   \n",
       "\n",
       "                                             urls  label  \\\n",
       "0                  http://wyyrdcefgl.duckdns.org/      1   \n",
       "1                          https://example397.com      0   \n",
       "2  https://www4.netstation-aplcuos.com/login.html      1   \n",
       "3                          https://example922.com      0   \n",
       "4                          https://example505.com      0   \n",
       "\n",
       "                                    extracted_url  \n",
       "0                  http://wyyrdcefgl.duckdns.org/  \n",
       "1                          https://example397.com  \n",
       "2  https://www4.netstation-aplcuos.com/login.html  \n",
       "3                          https://example922.com  \n",
       "4                          https://example505.com  "
      ]
     },
     "execution_count": 37,
     "metadata": {},
     "output_type": "execute_result"
    }
   ],
   "source": [
    "df.head()"
   ]
  },
  {
   "cell_type": "code",
   "execution_count": 38,
   "id": "d458ce35-7a72-45a6-8aa8-3fe84be3cfa2",
   "metadata": {},
   "outputs": [
    {
     "data": {
      "text/plain": [
       "(439557, 8)"
      ]
     },
     "execution_count": 38,
     "metadata": {},
     "output_type": "execute_result"
    }
   ],
   "source": [
    "df.shape"
   ]
  },
  {
   "cell_type": "code",
   "execution_count": 39,
   "id": "d2596512-236b-4585-a1aa-355452016dec",
   "metadata": {},
   "outputs": [
    {
     "name": "stdout",
     "output_type": "stream",
     "text": [
      "<class 'pandas.core.frame.DataFrame'>\n",
      "Index: 439557 entries, 0 to 440011\n",
      "Data columns (total 8 columns):\n",
      " #   Column         Non-Null Count   Dtype \n",
      "---  ------         --------------   ----- \n",
      " 0   sender         439557 non-null  int32 \n",
      " 1   receiver       439557 non-null  int32 \n",
      " 2   date           439557 non-null  int64 \n",
      " 3   subject        439557 non-null  object\n",
      " 4   body           439557 non-null  object\n",
      " 5   urls           439557 non-null  object\n",
      " 6   label          439557 non-null  int8  \n",
      " 7   extracted_url  439557 non-null  object\n",
      "dtypes: int32(2), int64(1), int8(1), object(4)\n",
      "memory usage: 23.9+ MB\n"
     ]
    }
   ],
   "source": [
    "df.info()"
   ]
  },
  {
   "cell_type": "code",
   "execution_count": 40,
   "id": "eccd1011-989f-4e4e-854e-a1c99d7e0d14",
   "metadata": {},
   "outputs": [],
   "source": [
    "df['date'] = pd.to_datetime(df['date'], errors='coerce', utc=True)  # Convert to UTC timezone\n",
    "df['date'] = df['date'].dt.tz_localize(None)  # Remove timezone info\n",
    "df['date'] = df['date'].astype(int) / 10**9  # Convert to UNIX timestamp (seconds)\n",
    "df['date'] = pd.to_datetime(df['date'], errors='coerce').astype(int) / 10**9  # Convert to seconds"
   ]
  },
  {
   "cell_type": "code",
   "execution_count": 41,
   "id": "72c08c0c-8bde-4858-80ab-7ec5b3af0349",
   "metadata": {},
   "outputs": [],
   "source": [
    "#from sklearn.feature_extraction.text import TfidfVectorizer\n",
    "\n",
    "#tfidf_vectorizer = TfidfVectorizer(max_features=100)  # Limit to 100 most important words\n",
    "\n",
    "# Convert 'subject' and 'body' to TF-IDF features\n",
    "#subject_tfidf = tfidf_vectorizer.fit_transform(df['subject'].astype(str)).toarray()\n",
    "#body_tfidf = tfidf_vectorizer.fit_transform(df['body'].astype(str)).toarray()\n",
    "\n",
    "# Convert to DataFrame\n",
    "#subject_tfidf_df = pd.DataFrame(subject_tfidf, columns=[f\"subject_{i}\" for i in range(subject_tfidf.shape[1])])\n",
    "#body_tfidf_df = pd.DataFrame(body_tfidf, columns=[f\"body_{i}\" for i in range(body_tfidf.shape[1])])\n",
    "\n",
    "# Drop original text columns and merge new features\n",
    "#df = df.drop(columns=['subject', 'body'])\n",
    "#df = pd.concat([df.reset_index(drop=True), subject_tfidf_df, body_tfidf_df], axis=1)\n"
   ]
  },
  {
   "cell_type": "code",
   "execution_count": 42,
   "id": "b4e35ad4-262f-4f79-a760-3acc42dfc23b",
   "metadata": {},
   "outputs": [
    {
     "name": "stdout",
     "output_type": "stream",
     "text": [
      "sender             int32\n",
      "receiver           int32\n",
      "date             float64\n",
      "subject           object\n",
      "body              object\n",
      "urls              object\n",
      "label               int8\n",
      "extracted_url     object\n",
      "dtype: object\n"
     ]
    }
   ],
   "source": [
    "print(df.dtypes)  # Ensure all columns are now numeric\n"
   ]
  },
  {
   "cell_type": "code",
   "execution_count": 43,
   "id": "f8adb39a-704f-4d46-ba46-be04e430e3fe",
   "metadata": {},
   "outputs": [],
   "source": [
    "#df = df.apply(pd.to_numeric, errors='coerce')  # Convert all to numeric\n",
    "#df.fillna(0, inplace=True)  # Replace NaN with 0\n",
    "df['body'] = df['body'].astype(str) #convert to sring type"
   ]
  },
  {
   "cell_type": "code",
   "execution_count": 44,
   "id": "f288d136-720e-4c44-918a-bfdf18b051c6",
   "metadata": {},
   "outputs": [
    {
     "name": "stdout",
     "output_type": "stream",
     "text": [
      "sender             int32\n",
      "receiver           int32\n",
      "date             float64\n",
      "subject           object\n",
      "body              object\n",
      "urls              object\n",
      "label               int8\n",
      "extracted_url     object\n",
      "dtype: object\n"
     ]
    }
   ],
   "source": [
    "print(df.dtypes)  # Ensure all columns are now numeric\n"
   ]
  },
  {
   "cell_type": "code",
   "execution_count": 45,
   "id": "586998c4-711d-4250-879b-468b1842edf4",
   "metadata": {},
   "outputs": [
    {
     "name": "stdout",
     "output_type": "stream",
     "text": [
      "Columns in the DataFrame: Index(['sender', 'receiver', 'date', 'subject', 'body', 'urls', 'label',\n",
      "       'extracted_url'],\n",
      "      dtype='object')\n"
     ]
    }
   ],
   "source": [
    "print(\"Columns in the DataFrame:\", df.columns)\n"
   ]
  },
  {
   "cell_type": "code",
   "execution_count": 46,
   "id": "5cca6b88-7db7-4e3e-988e-89d95d43404c",
   "metadata": {},
   "outputs": [
    {
     "name": "stdout",
     "output_type": "stream",
     "text": [
      "Cleaned dataframe saved to DATA-Clearning-Cleaned_Data_20250212_160342.csv\n"
     ]
    }
   ],
   "source": [
    "# Save the cleaned DataFrame to a CSV file\n",
    "\n",
    "import os\n",
    "from datetime import datetime\n",
    "\n",
    "# Generate a timestamp\n",
    "timestamp = datetime.now().strftime(\"%Y%m%d_%H%M%S\")\n",
    "\n",
    "# Ensure the \"saved_models\" directory exists\n",
    "os.makedirs(\"saved_data\", exist_ok=True)\n",
    "df.to_csv(f\"saved_data/DATA-Clearning-Cleaned_Data_{timestamp}.csv\", index=False)\n",
    "\n",
    "print(f\"Cleaned dataframe saved to DATA-Clearning-Cleaned_Data_{timestamp}.csv\")"
   ]
  },
  {
   "cell_type": "markdown",
   "id": "8e359fe1-d385-4517-8a39-749b5f7e90fc",
   "metadata": {},
   "source": [
    "## Feature Engineering\n",
    "\n",
    "    Extract text-based features (e.g., length of email body, number of special characters, presence of urgent words).\n",
    "    Analyze URLs:\n",
    "        Extract domain and check if it appears in known phishing databases.\n",
    "        Count number of dots (.), hyphens (-), and special characters.\n",
    "    Use Natural Language Processing (NLP) to analyze body content for phishing indicators.\n",
    "1. Address Bar based Features (Domain of URL, IP Address in URL, \"@\" Symbol in URL, Length of URL, Depth of URL, Redirection \"//\" in URL, \"http/https\" in Domain name, Using URL Shortening Services “TinyURL”, Prefix or Suffix \"-\" in Domain)\n",
    "\n",
    "2. Domain based Features(DNS Record, Website Traffic, Age of Domain, End Period of Domain )\n",
    "\n",
    "3. HTML & Javascript based Features( IFrame Redirection, Status Bar Customization, Disabling Right Click, Website Forwarding)"
   ]
  },
  {
   "cell_type": "code",
   "execution_count": 47,
   "id": "9c30d9eb-d7f7-4529-bc54-29632612da83",
   "metadata": {},
   "outputs": [],
   "source": [
    "# Function to check if a URL is in phishing databases\n",
    "#def check_phishing_url(url):\n",
    "#    if pd.isna(url):\n",
    "#        return 0\n",
    "#    for db_url in PHISHING_DATABASES:\n",
    "#        try:\n",
    "#            response = requests.get(db_url)\n",
    "#            if url in response.text:\n",
    "#                return 1\n",
    "#        except:\n",
    "#            continue\n",
    "#    return 0\n",
    "\n",
    "#df['is_phishing_url'] = df['extracted_url'].apply(check_phishing_url)\n"
   ]
  },
  {
   "cell_type": "code",
   "execution_count": 48,
   "id": "8d329963-832a-4a1e-9da8-64abe06c2b38",
   "metadata": {},
   "outputs": [],
   "source": [
    "# Function to check if an IP address is in phishing databases\n",
    "#def check_phishing_ip(ip):\n",
    "#    if pd.isna(ip) or ip == \"0\":\n",
    "#        return 0\n",
    "#    for db_url in PHISHING_DATABASES:\n",
    "#        try:\n",
    "#            response = requests.get(db_url)\n",
    "#            if ip in response.text:\n",
    "#                return 1\n",
    "#        except:\n",
    "#            continue\n",
    "#    return 0\n",
    "\n"
   ]
  },
  {
   "cell_type": "code",
   "execution_count": 49,
   "id": "7bd30351-df9f-491f-9253-6c51426bd85d",
   "metadata": {},
   "outputs": [],
   "source": [
    "# Function to extract IP from URL\n",
    "def extract_ip_from_url(url):\n",
    "    try:\n",
    "        parsed_url = urlparse(url)\n",
    "        domain = parsed_url.netloc\n",
    "        if re.match(r'^([0-9]{1,3}\\.){3}[0-9]{1,3}$', domain) or re.match(r'^([0-9a-fA-F:]+)$', domain):\n",
    "            return domain  # Return IP if domain is an IP address\n",
    "    except:\n",
    "        return \"0\"\n",
    "    return \"0\"\n",
    "\n",
    "# Apply IP extraction and phishing check\n",
    "df['extracted_ip'] = df['extracted_url'].apply(extract_ip_from_url)\n",
    "#df['is_phishing_ip'] = df['extracted_ip'].apply(check_phishing_ip)\n"
   ]
  },
  {
   "cell_type": "code",
   "execution_count": 50,
   "id": "1bb01f68-a1a8-48c9-b144-a60e33b31b44",
   "metadata": {},
   "outputs": [],
   "source": [
    "# Import necessary libraries\n",
    "import pandas as pd\n",
    "import ipaddress\n",
    "\n",
    "# Function to clean and parse URLs safely\n",
    "def clean_url(url):\n",
    "    if pd.isna(url) or not isinstance(url, str) or len(url.strip()) == 0:\n",
    "        return None  # Return None for missing or empty URLs\n",
    "    url = url.strip().strip('[]')  # Remove any unwanted brackets\n",
    "    return url\n",
    "\n",
    "# Function to check if the domain is an IP address (IPv4 or IPv6)\n",
    "def is_ip_address(domain):\n",
    "    try:\n",
    "        ipaddress.ip_address(domain)  # Correct indentation and syntax\n",
    "        return 1  # It is an IP address\n",
    "    except ValueError:\n",
    "        return 0  # Not an IP address\n"
   ]
  },
  {
   "cell_type": "code",
   "execution_count": 51,
   "id": "69ac71e0-d4bc-4916-8702-3ce52a4c94b7",
   "metadata": {},
   "outputs": [],
   "source": [
    "from urllib.parse import urlparse\n",
    "\n",
    "# Function to check if the domain is an IP address\n",
    "def is_ip_address(domain):\n",
    "    import re\n",
    "    ip_pattern = re.compile(r\"(\\d{1,3}\\.){3}\\d{1,3}$\")  # IPv4 regex\n",
    "    return 1 if ip_pattern.match(domain) else 0\n",
    "\n",
    "# Function to clean URLs (placeholder, define as needed)\n",
    "def clean_url(url):\n",
    "    return url.strip() if isinstance(url, str) else None\n",
    "\n",
    "# Function to extract URL-based features\n",
    "def extract_url_features(url):\n",
    "    url = clean_url(url)\n",
    "    if url is None:\n",
    "        return [0] * 9  # Return a list of zeros for missing or invalid URLs\n",
    "\n",
    "    try:\n",
    "        parsed_url = urlparse(url)\n",
    "        netloc = parsed_url.netloc.lower().strip()  # Normalize the domain part\n",
    "\n",
    "        shortening_services = (\n",
    "            \"bit.ly\", \"tinyurl.com\", \"is.gd\", \"goo.gl\", \"shorte.st\", \"go2l.ink\", \"x.co\", \n",
    "            \"ow.ly\", \"t.co\", \"tr.im\", \"cli.gs\", \"yfrog.com\", \"migre.me\", \"ff.im\", \n",
    "            \"tiny.cc\", \"url4.eu\", \"twit.ac\", \"su.pr\", \"twurl.nl\", \"snipurl.com\", \n",
    "            \"short.to\", \"BudURL.com\", \"ping.fm\", \"post.ly\", \"Just.as\", \"bkite.com\", \n",
    "            \"snipr.com\", \"fic.kr\", \"loopt.us\", \"doiop.com\", \"short.ie\", \"kl.am\", \n",
    "            \"wp.me\", \"rubyurl.com\", \"om.ly\", \"to.ly\", \"bit.do\", \"lnkd.in\", \"db.tt\", \n",
    "            \"qr.ae\", \"adf.ly\", \"bitly.com\", \"cur.lv\", \"ity.im\", \"q.gs\", \"po.st\", \n",
    "            \"bc.vc\", \"twitthis.com\", \"u.to\", \"j.mp\", \"buzurl.com\", \"cutt.us\", \n",
    "            \"u.bb\", \"yourls.org\", \"x.co\", \"prettylinkpro.com\", \"scrnch.me\", \n",
    "            \"filoops.info\", \"vzturl.com\", \"qr.net\", \"1url.com\", \"tweez.me\", \n",
    "            \"v.gd\", \"link.zip.net\"\n",
    "        )\n",
    "\n",
    "        return [\n",
    "            len(url),  # URL length\n",
    "            url.count('/'),  # URL depth\n",
    "            1 if '@' in url else 0,  # Presence of '@'\n",
    "            1 if '-' in netloc else 0,  # Presence of '-'\n",
    "            1 if netloc.count('.') > 1 else 0,  # Subdomain count\n",
    "            1 if parsed_url.scheme != 'https' else 0,  # Use of HTTP instead of HTTPS\n",
    "            1 if '//' in url[7:] else 0,  # Redirection \"//\"\n",
    "            1 if any(service in netloc for service in shortening_services) else 0,  # URL Shortener\n",
    "            is_ip_address(netloc)  # Check if domain is an IP (IPv4 or IPv6)\n",
    "        ]\n",
    "    except Exception as e:\n",
    "        print(f\"Error processing URL {url}: {e}\")\n",
    "        return [0] * 9  # Return default values in case of errors\n",
    "\n",
    "# Ensure no missing values in 'extracted_url' before applying the function\n",
    "df = df.dropna(subset=['extracted_url'])\n",
    "\n",
    "# Apply the feature extraction function safely\n",
    "df[['url_length', 'url_depth', 'has_at_symbol', 'has_hyphen', 'subdomain_count', \n",
    "    'is_http', 'has_redirection', 'is_shortened', 'has_ip']] = df['extracted_url'].apply(\n",
    "        lambda x: pd.Series(extract_url_features(str(x)))\n",
    "    )\n"
   ]
  },
  {
   "cell_type": "code",
   "execution_count": 52,
   "id": "787ba6dc-6153-4b62-be97-597b19f4d4e1",
   "metadata": {},
   "outputs": [],
   "source": [
    "#drop the extracted_url column\n",
    "df.drop(columns=['extracted_url'], inplace=True)\n"
   ]
  },
  {
   "cell_type": "code",
   "execution_count": 53,
   "id": "c8994ff1-b3ed-4d5a-bf67-514937e9ffda",
   "metadata": {},
   "outputs": [
    {
     "name": "stdout",
     "output_type": "stream",
     "text": [
      "Dropped 'extracted_ip' column after extracting relevant features.\n"
     ]
    }
   ],
   "source": [
    "# Drop 'extracted_ip' as it is no longer needed\n",
    "df.drop(columns=['extracted_ip'], inplace=True)\n",
    "print(\"Dropped 'extracted_ip' column after extracting relevant features.\")\n"
   ]
  },
  {
   "cell_type": "code",
   "execution_count": 54,
   "id": "efae36fa-6bf0-4060-bf42-37a6185f08df",
   "metadata": {},
   "outputs": [],
   "source": [
    "#new code \n",
    "\n",
    "# 1. Extract URL Features\n",
    "#def is_ip_address(domain):\n",
    "#    try:\n",
    "#        ipaddress.ip_address(domain)\n",
    "#        return 1  # It is an IP address\n",
    "#    except ValueError:\n",
    "#        return 0  # Not an IP address\n",
    "#\n",
    "#def extract_url_features(url):\n",
    "#    if pd.isna(url):\n",
    "#        return [0] * 10\n",
    "#    parsed_url = urlparse(url)\n",
    "#    netloc = parsed_url.netloc.lower().strip()\n",
    "#    shortening_services = (\"bit.ly\", \"tinyurl.com\", \"is.gd\", \"goo.gl\")\n",
    "#    return [\n",
    "#        len(url),  # URL length\n",
    "#        url.count('/'),  # URL depth\n",
    "#        1 if '@' in url else 0,  # Presence of '@'\n",
    "#        1 if '-' in netloc else 0,  # Presence of '-'\n",
    "#        1 if netloc.count('.') > 1 else 0,  # Subdomain count\n",
    "#        1 if parsed_url.scheme != 'https' else 0,  # Use of HTTP instead of HTTPS\n",
    "#        1 if '//' in url[7:] else 0,  # Redirection \"//\"\n",
    "#        1 if any(service in netloc for service in shortening_services) else 0,  # URL Shortener\n",
    "#        is_ip_address(netloc),  # Check if domain is an IP (IPv4 or IPv6)\n",
    "#        1 if ':' in netloc else 0  # Presence of port number (IPv6 related feature)\n",
    "#    ]\n",
    "\n",
    "#df[['url_length', 'url_depth', 'has_at_symbol', 'has_hyphen', 'subdomain_count', 'is_http', 'has_redirection', 'is_shortened', 'has_ip', 'has_port']] = df['extracted_url'].apply(lambda x: pd.Series(extract_url_features(x)))\n"
   ]
  },
  {
   "cell_type": "markdown",
   "id": "ab8e30ae-6a31-4fea-82b9-6091235e63c2",
   "metadata": {},
   "source": [
    "Optimized Code for Faster Domain-Based Feature Extraction"
   ]
  },
  {
   "cell_type": "code",
   "execution_count": 55,
   "id": "7ad3bf23-6d67-4820-b6d0-603f2ac24338",
   "metadata": {},
   "outputs": [],
   "source": [
    "# 2. Domain Based Features\n",
    "#def extract_domain_features(url):\n",
    "#    if pd.isna(url):\n",
    "#        return [0, 0, 0, 0]\n",
    "#    domain = urlparse(url).netloc\n",
    "#    try:\n",
    "#        print(f\"Processing WHOIS lookup for domain: {domain}\")\n",
    "#        start_time = time.time()\n",
    "#        domain_info = whois.whois(domain)\n",
    "#        elapsed_time = time.time() - start_time\n",
    "#        print(f\"WHOIS lookup completed in {elapsed_time:.2f} seconds\")\n",
    "#        age = (datetime.now() - domain_info.creation_date).days if domain_info.creation_date else 0\n",
    "#        expiration = (domain_info.expiration_date - datetime.now()).days if domain_info.expiration_date else 0\n",
    "#        traffic = 1 if requests.get(f'https://www.alexa.com/siteinfo/{domain}').status_code == 200 else 0\n",
    "#        return [1 if domain_info.domain_name else 0, traffic, age, expiration]\n",
    "#    except Exception as e:\n",
    "#        print(f\"Error processing domain {domain}: {e}\")\n",
    "#        return [0, 0, 0, 0]\n",
    "\n",
    "#with ThreadPoolExecutor(max_workers=10) as executor:\n",
    "#    results = list(executor.map(extract_domain_features, df['extracted_url']))\n",
    "\n",
    "#from gensim.models import Word2Vec\n",
    "#df[['has_dns_record', 'website_traffic', 'domain_age', 'domain_expiration']] = pd.DataFrame(results)\n",
    "\n",
    "\n",
    "# Save WHOIS cache as whois_cache.pkl\n",
    "#with open(\"whois_cache.pkl\", \"wb\") as f:\n",
    "#    pickle.dump(whois_cache, f)\n"
   ]
  },
  {
   "cell_type": "code",
   "execution_count": 56,
   "id": "873844c0-dc67-405f-8a65-d4a0a4823357",
   "metadata": {},
   "outputs": [],
   "source": [
    "# 2. Domain Based Features(avoiding this as it is takin long time)\n",
    "\n",
    "#adding caching functionality to fasten the feature extration\n",
    "# Cache WHOIS results\n",
    "#whois_cache = {}\n",
    "\n",
    "# Local WHOIS cache file\n",
    "#WHOIS_CACHE_FILE = \"whois_cache.pkl\"\n",
    "\n",
    "# Load WHOIS cache if it exists\n",
    "#try:\n",
    "#    with open(\"whois_cache.pkl\", \"rb\") as f:\n",
    "#        whois_cache = pickle.load(f)\n",
    "#except FileNotFoundError:\n",
    "#    whois_cache = {}\n",
    "\n",
    "#def extract_domain_features(url):\n",
    "#    \"\"\"Extract domain-based features with caching, retries, and timeout handling.\"\"\"\n",
    "#    if pd.isna(url):\n",
    "#        return [0, 0, 0, 0]\n",
    "#    \n",
    "#    domain = urlparse(url).netloc\n",
    "#    if not domain:\n",
    "#        return [0, 0, 0, 0]\n",
    "#    \n",
    "    # Return cached results if available\n",
    "#    if domain in whois_cache:\n",
    "#        return whois_cache[domain]\n",
    "\n",
    "#    try:\n",
    "#        # Retry logic for WHOIS queries\n",
    "#        retries = 3\n",
    "#        for attempt in range(retries):\n",
    "#            try:\n",
    "#                domain_info = whois.whois(domain)\n",
    "#                break  # If successful, exit retry loop\n",
    "#            except Exception as e:\n",
    "#                print(f\"WHOIS error on {domain} (attempt {attempt + 1}): {e}\")\n",
    "#                time.sleep(2)  # Wait before retrying\n",
    "#        else:\n",
    "#            # If all retries fail, return default values\n",
    "#            whois_cache[domain] = [0, 0, 0, 0]\n",
    "#            return [0, 0, 0, 0]\n",
    "\n",
    "#        # Calculate domain age and expiration\n",
    "#        creation_date = domain_info.creation_date\n",
    "#        expiration_date = domain_info.expiration_date\n",
    "\n",
    "#        # Handle cases where creation_date or expiration_date might be lists\n",
    "#        if isinstance(creation_date, list):\n",
    "#            creation_date = creation_date[0]\n",
    "#        if isinstance(expiration_date, list):\n",
    "#            expiration_date = expiration_date[0]\n",
    "\n",
    "#        age = (datetime.now() - creation_date).days if creation_date else 0\n",
    "#        expiration = (expiration_date - datetime.now()).days if expiration_date else 0\n",
    "\n",
    "        # Check website traffic using Alexa (Fallback to 0 if request fails)\n",
    "#        try:\n",
    "#            traffic = 1 if requests.get(f'https://www.alexa.com/siteinfo/{domain}', timeout=5).status_code == 200 else 0\n",
    "#        except requests.RequestException:\n",
    "#            traffic = 0\n",
    "\n",
    "#        # Store results in cache\n",
    "#        whois_cache[domain] = [1 if domain_info.domain_name else 0, traffic, age, expiration]\n",
    "\n",
    "        # Save updated WHOIS cache every time to avoid data loss\n",
    "#        with open(\"whois_cache.pkl\", \"wb\") as f:\n",
    "#            pickle.dump(whois_cache, f)\n",
    "\n",
    "#        return whois_cache[domain]\n",
    "\n",
    "#    except Exception as e:\n",
    "#        print(f\"Error processing domain {domain}: {e}\")\n",
    "#        whois_cache[domain] = [0, 0, 0, 0]\n",
    "#        return [0, 0, 0, 0]\n",
    "\n",
    "# Apply feature extraction to the dataframe\n",
    "#df[['has_dns_record', 'website_traffic', 'domain_age', 'domain_expiration']] = df['extracted_url'].apply(lambda x: pd.Series(extract_domain_features(x)))\n",
    "\n",
    "#old code below\n",
    "\n",
    "#def extract_domain_features(url):\n",
    "#    if pd.isna(url):\n",
    "#        return [0, 0, 0, 0]\n",
    "#    domain = urlparse(url).netloc\n",
    "#    if domain in whois_cache:\n",
    "#        return whois_cache[domain]\n",
    "#    try:\n",
    "#        domain_info = whois.whois(domain)\n",
    "#        age = (datetime.now() - domain_info.creation_date).days if domain_info.creation_date else 0\n",
    "#        expiration = (domain_info.expiration_date - datetime.now()).daRecordys if domain_info.expiration_date else 0\n",
    "#        traffic = 1 if requests.get(f'https://www.alexa.com/siteinfo/{domain}').status_code == 200 else 0\n",
    "#        whois_cache[domain] = [1 if domain_info.domain_name else 0, traffic, age, expiration]\n",
    "#        return whois_cache[domain]\n",
    "#    except:\n",
    "#        whois_cache[domain] = [0, 0, 0, 0]\n",
    "#        return [0, 0, 0, 0]\n",
    "\n",
    "#df[['has_dns_record', 'website_traffic', 'domain_age', 'domain_expiration']] = df['extracted_url'].apply(lambda x: pd.Series(extract_domain_features(x)))\n"
   ]
  },
  {
   "cell_type": "code",
   "execution_count": 57,
   "id": "5f1062cc-8aab-4b91-b247-a541dde05553",
   "metadata": {},
   "outputs": [
    {
     "name": "stdout",
     "output_type": "stream",
     "text": [
      "Index(['sender', 'receiver', 'date', 'subject', 'body', 'urls', 'label',\n",
      "       'url_length', 'url_depth', 'has_at_symbol', 'has_hyphen',\n",
      "       'subdomain_count', 'is_http', 'has_redirection', 'is_shortened',\n",
      "       'has_ip'],\n",
      "      dtype='object')\n"
     ]
    }
   ],
   "source": [
    "print(df.columns)  # Check if 'body' exists\n"
   ]
  },
  {
   "cell_type": "code",
   "execution_count": 58,
   "id": "22ef73b2-48e6-49b6-bddc-2686544fab96",
   "metadata": {},
   "outputs": [],
   "source": [
    "# 3. HTML & Javascript Based Features\n",
    "def extract_html_js_features(body):\n",
    "    return [\n",
    "        1 if re.search(r'<iframe.*?>', str(body), re.IGNORECASE) else 0,  # IFrame Redirection\n",
    "        1 if re.search(r'onmouseover=\"window.status', str(body), re.IGNORECASE) else 0,  # Status Bar Customization\n",
    "        1 if re.search(r'event.button ?== ?2', str(body), re.IGNORECASE) else 0,  # Disabling Right Click\n",
    "        str(body).count(\"window.location\")  # Website Forwarding Count\n",
    "    ]\n",
    "\n",
    "df[['iframe_redirection', 'status_bar_customization', 'disable_right_click', 'website_forwarding']] = df['body'].apply(lambda x: pd.Series(extract_html_js_features(x)))\n"
   ]
  },
  {
   "cell_type": "code",
   "execution_count": 59,
   "id": "9fc284c4-5c16-4800-86e1-ad50c3de9bb6",
   "metadata": {},
   "outputs": [],
   "source": [
    "# 4. Extract Email Metadata Features\n",
    "df['sender_length'] = df['sender'].astype(str).apply(len)\n",
    "df['receiver_length'] = df['receiver'].astype(str).apply(len)\n",
    "df['subject_length'] = df['subject'].astype(str).apply(len)\n",
    "df['body_length'] = df['body'].astype(str).apply(len)\n",
    "\n"
   ]
  },
  {
   "cell_type": "code",
   "execution_count": 60,
   "id": "935c7f12-1a95-4682-8f5b-17508b07ab17",
   "metadata": {},
   "outputs": [],
   "source": [
    "#drop the subject column\n",
    "df.drop(columns=['subject'], inplace=True)\n"
   ]
  },
  {
   "cell_type": "code",
   "execution_count": 61,
   "id": "2b34c72d-72bf-4402-abe8-36715c4d0037",
   "metadata": {},
   "outputs": [],
   "source": [
    "# 5. Phishing Keyword Count\n",
    "def count_phishing_keywords(text):\n",
    "    phishing_keywords = [\"bank\", \"account\", \"password\", \"verify\", \"click\", \"login\", \"urgent\", \"limited time\"]\n",
    "    return sum(word in str(text).lower() for word in phishing_keywords)\n",
    "\n",
    "df['phishing_keyword_count'] = df['body'].apply(count_phishing_keywords)\n"
   ]
  },
  {
   "cell_type": "code",
   "execution_count": 62,
   "id": "5052ae1c-7121-4eea-a742-34cca0d9e4ed",
   "metadata": {},
   "outputs": [],
   "source": [
    "\n",
    "df['body'] = df['body'].astype(str)\n"
   ]
  },
  {
   "cell_type": "code",
   "execution_count": 63,
   "id": "632860ff-a4a0-4068-8e80-ad6401b6c219",
   "metadata": {},
   "outputs": [
    {
     "name": "stdout",
     "output_type": "stream",
     "text": [
      "(439557, 24)\n"
     ]
    }
   ],
   "source": [
    "print(df.shape)"
   ]
  },
  {
   "cell_type": "code",
   "execution_count": 64,
   "id": "e2289d73-a795-452a-92e2-3b0b44f65e6a",
   "metadata": {},
   "outputs": [
    {
     "name": "stdout",
     "output_type": "stream",
     "text": [
      "0\n"
     ]
    }
   ],
   "source": [
    "print(df['body'].isnull().sum())"
   ]
  },
  {
   "cell_type": "code",
   "execution_count": 65,
   "id": "81755960-3a9e-4c21-8fc0-805dd71578b1",
   "metadata": {},
   "outputs": [],
   "source": [
    "if df['body'].dropna().str.strip().eq(\"\").all():\n",
    "    raise ValueError(\"All documents in 'body' column are empty or contain only stop words.\")\n"
   ]
  },
  {
   "cell_type": "code",
   "execution_count": 66,
   "id": "6ca77b58-25ce-49b3-ab7c-335621ccf0a9",
   "metadata": {},
   "outputs": [
    {
     "name": "stderr",
     "output_type": "stream",
     "text": [
      "/tmp/ipykernel_74982/3753032974.py:1: FutureWarning: A value is trying to be set on a copy of a DataFrame or Series through chained assignment using an inplace method.\n",
      "The behavior will change in pandas 3.0. This inplace method will never work because the intermediate object on which we are setting values always behaves as a copy.\n",
      "\n",
      "For example, when doing 'df[col].method(value, inplace=True)', try using 'df.method({col: value}, inplace=True)' or df[col] = df[col].method(value) instead, to perform the operation inplace on the original object.\n",
      "\n",
      "\n",
      "  df['body'].fillna(\"\", inplace=True)  # Replace NaNs with empty strings\n"
     ]
    }
   ],
   "source": [
    "\n",
    "df['body'].fillna(\"\", inplace=True)  # Replace NaNs with empty strings\n",
    "df['body'] = df['body'].apply(lambda x: x if len(str(x).strip()) > 1 else \"emptyemail\")\n"
   ]
  },
  {
   "cell_type": "code",
   "execution_count": 67,
   "id": "890faafb-c04a-4014-af5c-a67a49743034",
   "metadata": {},
   "outputs": [],
   "source": [
    "# 7. Tokenization & Padding for Deep Learning\n",
    "#max_words = 5000\n",
    "#max_length = 200\n",
    "#tokenizer = Tokenizer(num_words=max_words, oov_token=\"<OOV>\")\n",
    "#tokenizer.fit_on_texts(df['body'].astype(str))\n",
    "#sequences = tokenizer.texts_to_sequences(df['body'].astype(str))\n",
    "#padded_sequences = pad_sequences(sequences, maxlen=max_length, padding='post')\n",
    "#np.save(\"padded_sequences.npy\", padded_sequences)\n",
    "#df['tokenized_body'] = list(padded_sequences)\n"
   ]
  },
  {
   "cell_type": "code",
   "execution_count": 68,
   "id": "34990352-f00b-4c3e-9e73-7f4910ad1acf",
   "metadata": {},
   "outputs": [],
   "source": [
    "# Apply TF-IDF Vectorization\n",
    "#vectorizer = TfidfVectorizer(max_features=100)\n",
    "#tfidf_matrix = vectorizer.fit_transform(df['body'].astype(str))\n",
    "#tfidf_df = pd.DataFrame(tfidf_matrix.toarray(), columns=vectorizer.get_feature_names_out())\n",
    "#df = df.drop(columns=['body'])\n",
    "#df = pd.concat([df.reset_index(drop=True), tfidf_df.reset_index(drop=True)], axis=1)\n"
   ]
  },
  {
   "cell_type": "code",
   "execution_count": 69,
   "id": "ca40f277-7037-4b4c-80c8-7b0f97fc3686",
   "metadata": {},
   "outputs": [],
   "source": [
    "#if len(vectorizer.get_feature_names_out()) == 0:\n",
    "#    raise ValueError(\"TF-IDF vocabulary is empty. Check preprocessing steps.\")\n"
   ]
  },
  {
   "cell_type": "code",
   "execution_count": 70,
   "id": "4f3c4108-4135-4a26-8f57-880ebe60b190",
   "metadata": {},
   "outputs": [
    {
     "name": "stdout",
     "output_type": "stream",
     "text": [
      "Index(['sender', 'receiver', 'date', 'body', 'urls', 'label', 'url_length',\n",
      "       'url_depth', 'has_at_symbol', 'has_hyphen', 'subdomain_count',\n",
      "       'is_http', 'has_redirection', 'is_shortened', 'has_ip',\n",
      "       'iframe_redirection', 'status_bar_customization', 'disable_right_click',\n",
      "       'website_forwarding', 'sender_length', 'receiver_length',\n",
      "       'subject_length', 'body_length', 'phishing_keyword_count'],\n",
      "      dtype='object')\n"
     ]
    }
   ],
   "source": [
    "print(df.columns)\n",
    "from gensim.models import Word2Vec"
   ]
  },
  {
   "cell_type": "code",
   "execution_count": 71,
   "id": "d892c369-986b-4db3-9628-a2bb40b15eea",
   "metadata": {},
   "outputs": [],
   "source": [
    "# Word2Vec Embeddings\n",
    "#tokenized_texts = [text.split() for text in df['body'].astype(str)]\n",
    "#word2vec_model = Word2Vec(sentences=tokenized_texts, vector_size=100, window=5, min_count=5, workers=4)\n",
    "#df['word2vec_embedding'] = df['body'].apply(lambda x: word2vec_model.wv[x.split()] if x else np.zeros(100))\n",
    "\n",
    "\n",
    "from gensim.models import Word2Vec\n",
    "import numpy as np\n",
    "\n",
    "# Tokenize the text column\n",
    "tokenized_texts = [text.split() for text in df['body'].astype(str)]\n",
    "\n",
    "# Train the Word2Vec model\n",
    "word2vec_model = Word2Vec(sentences=tokenized_texts, vector_size=100, window=5, min_count=5, workers=4)\n",
    "\n",
    "# Function to get embeddings safely\n",
    "def get_word2vec_embedding(text):\n",
    "    words = text.split()  # Tokenize the input text\n",
    "    word_vectors = [word2vec_model.wv[word] for word in words if word in word2vec_model.wv]  # Only take known words\n",
    "\n",
    "    if len(word_vectors) == 0:\n",
    "        return np.zeros(100)  # If no words are in the vocabulary, return a zero vector\n",
    "    return np.mean(word_vectors, axis=0)  # Average word vectors to get a sentence representation\n",
    "\n",
    "# Apply function to each row in 'body'\n",
    "df['word2vec_embedding'] = df['body'].astype(str).apply(get_word2vec_embedding)\n",
    "\n"
   ]
  },
  {
   "cell_type": "code",
   "execution_count": 72,
   "id": "a4d60880-29d6-4271-88f0-566dfd9918ae",
   "metadata": {},
   "outputs": [],
   "source": [
    "#drop the body colum now\n",
    "df.drop(columns=['body'], inplace=True)\n"
   ]
  },
  {
   "cell_type": "code",
   "execution_count": 73,
   "id": "3f125c2c-c84a-4bf8-bcf3-2c4f3c930b21",
   "metadata": {},
   "outputs": [
    {
     "name": "stdout",
     "output_type": "stream",
     "text": [
      "Expanding word2vec embeddings...\n",
      "Word2Vec embeddings expanded into separate columns.\n",
      "Checking data types after expanding embeddings...\n",
      "sender               int32\n",
      "receiver             int32\n",
      "date               float64\n",
      "urls                object\n",
      "label                 int8\n",
      "                    ...   \n",
      "word2vec_dim_95    float32\n",
      "word2vec_dim_96    float32\n",
      "word2vec_dim_97    float32\n",
      "word2vec_dim_98    float32\n",
      "word2vec_dim_99    float32\n",
      "Length: 123, dtype: object\n"
     ]
    }
   ],
   "source": [
    "# adding this code for chekcing word2vec \n",
    "\n",
    "# Expand word2vec embeddings into separate columns\n",
    "if 'word2vec_embedding' in df.columns:\n",
    "    print(\"Expanding word2vec embeddings...\")\n",
    "    word2vec_df = pd.DataFrame(df['word2vec_embedding'].tolist(), index=df.index)\n",
    "    word2vec_df.columns = [f'word2vec_dim_{i}' for i in range(word2vec_df.shape[1])]\n",
    "    \n",
    "    # Concatenate with the main dataframe\n",
    "    df = pd.concat([df, word2vec_df], axis=1)\n",
    "    \n",
    "    # Drop the original word2vec_embedding column\n",
    "    df.drop(columns=['word2vec_embedding'], inplace=True)\n",
    "\n",
    "    print(\"Word2Vec embeddings expanded into separate columns.\")\n",
    "else:\n",
    "    print(\"'word2vec_embedding' column not found. Skipping embedding expansion.\")\n",
    "\n",
    "# Verify all dtypes are numeric\n",
    "print(\"Checking data types after expanding embeddings...\")\n",
    "print(df.dtypes)\n"
   ]
  },
  {
   "cell_type": "code",
   "execution_count": 74,
   "id": "526d8698-57e4-4d36-8f6a-f4aa4c0ff914",
   "metadata": {},
   "outputs": [],
   "source": [
    "# BERT Embeddings\n",
    "#from sentence_transformers import SentenceTransformer\n",
    "#bert_model = SentenceTransformer('bert-base-nli-mean-tokens')\n",
    "#bert_model = SentenceTransformer('all-MiniLM-L6-v2')  # 5x faster than BERT-base\n",
    "#df['bert_embedding'] = df['body'].apply(lambda x: bert_model.encode(x))"
   ]
  },
  {
   "cell_type": "code",
   "execution_count": 75,
   "id": "44b45fc1-b271-4eec-b755-593c085c099e",
   "metadata": {},
   "outputs": [],
   "source": [
    "# 8. Encode Labels\n",
    "label_encoder = LabelEncoder()\n",
    "df['label'] = label_encoder.fit_transform(df['label'])\n"
   ]
  },
  {
   "cell_type": "code",
   "execution_count": 76,
   "id": "9dec9079-5400-4f3f-be56-9de4dffbdae2",
   "metadata": {},
   "outputs": [],
   "source": [
    "#drop the urls column\n",
    "df.drop(columns=['urls'], inplace=True)"
   ]
  },
  {
   "cell_type": "code",
   "execution_count": 77,
   "id": "9bcc2eb5-883a-4e53-8433-268ae21190d4",
   "metadata": {},
   "outputs": [
    {
     "name": "stdout",
     "output_type": "stream",
     "text": [
      "Feature extraction complete, saved as feature_engineered_data.csv\n"
     ]
    }
   ],
   "source": [
    "# Save the feature-engineered data\n",
    "\n",
    "\n",
    "import os\n",
    "from datetime import datetime\n",
    "\n",
    "# Generate a timestamp\n",
    "timestamp = datetime.now().strftime(\"%Y%m%d_%H%M%S\")\n",
    "\n",
    "# Ensure the \"saved_models\" directory exists\n",
    "os.makedirs(\"saved_data\", exist_ok=True)\n",
    "df.to_csv(f\"saved_data/feature_engineered_data_{timestamp}.csv\", index=False)\n",
    "print(\"Feature extraction complete, saved as feature_engineered_data.csv\")\n"
   ]
  },
  {
   "cell_type": "code",
   "execution_count": 78,
   "id": "bcda230b-d00e-431b-9cb8-ec6a784c5ee4",
   "metadata": {},
   "outputs": [
    {
     "data": {
      "text/plain": [
       "Index(['sender', 'receiver', 'date', 'label', 'url_length', 'url_depth',\n",
       "       'has_at_symbol', 'has_hyphen', 'subdomain_count', 'is_http',\n",
       "       ...\n",
       "       'word2vec_dim_90', 'word2vec_dim_91', 'word2vec_dim_92',\n",
       "       'word2vec_dim_93', 'word2vec_dim_94', 'word2vec_dim_95',\n",
       "       'word2vec_dim_96', 'word2vec_dim_97', 'word2vec_dim_98',\n",
       "       'word2vec_dim_99'],\n",
       "      dtype='object', length=122)"
      ]
     },
     "execution_count": 78,
     "metadata": {},
     "output_type": "execute_result"
    }
   ],
   "source": [
    "df.columns"
   ]
  },
  {
   "cell_type": "code",
   "execution_count": 79,
   "id": "1dfa86e7-65ec-4ef7-9b5c-7d51be51b8c4",
   "metadata": {},
   "outputs": [
    {
     "data": {
      "text/plain": [
       "<bound method NDFrame.head of         sender  receiver      date  label  url_length  url_depth  \\\n",
       "0       253920    439286  1.550534      1          30          3   \n",
       "1       326005    213645  1.619136      0          22          2   \n",
       "2       363613    217661  1.548979      1          46          3   \n",
       "3       307686    337393  1.580515      0          22          2   \n",
       "4       255799    126935  1.642723      0          22          2   \n",
       "...        ...       ...       ...    ...         ...        ...   \n",
       "440007  312517    213465  1.634947      0          22          2   \n",
       "440008  361752    352610  1.649722      1          36          3   \n",
       "440009   35173    172814  1.615075      1          27          3   \n",
       "440010   64473    397586  1.689120      0          22          2   \n",
       "440011  147984    153705  1.602288      0          22          2   \n",
       "\n",
       "        has_at_symbol  has_hyphen  subdomain_count  is_http  ...  \\\n",
       "0                   0           0                1        1  ...   \n",
       "1                   0           0                0        0  ...   \n",
       "2                   0           1                1        0  ...   \n",
       "3                   0           0                0        0  ...   \n",
       "4                   0           0                0        0  ...   \n",
       "...               ...         ...              ...      ...  ...   \n",
       "440007              0           0                0        0  ...   \n",
       "440008              0           0                1        1  ...   \n",
       "440009              0           0                1        0  ...   \n",
       "440010              0           0                0        0  ...   \n",
       "440011              0           0                0        0  ...   \n",
       "\n",
       "        word2vec_dim_90  word2vec_dim_91  word2vec_dim_92  word2vec_dim_93  \\\n",
       "0              2.476833         3.537520        -1.356712        -0.118843   \n",
       "1             -2.326358         0.420718        -0.927773         1.716577   \n",
       "2              1.393748        -0.100233         0.292834        -1.268295   \n",
       "3             -1.389868        -0.676754        -0.494947         0.877941   \n",
       "4              2.169732        -0.211443         0.214352        -0.340550   \n",
       "...                 ...              ...              ...              ...   \n",
       "440007        -1.388906        -0.669196        -0.503829         0.886034   \n",
       "440008         1.285623        -0.959485         1.419921        -0.662545   \n",
       "440009         2.476833         3.537520        -1.356712        -0.118843   \n",
       "440010        -2.327259         0.430088        -0.930501         1.716146   \n",
       "440011        -0.712017        -0.693231        -1.072456         0.626767   \n",
       "\n",
       "        word2vec_dim_94  word2vec_dim_95  word2vec_dim_96  word2vec_dim_97  \\\n",
       "0              1.349911        -1.036640        -1.692588        -1.023667   \n",
       "1             -0.030025         1.328717        -0.008127        -0.382438   \n",
       "2              0.394926        -0.501531        -1.447064        -0.281201   \n",
       "3             -1.927369         0.573654         0.026609         1.191871   \n",
       "4              0.308678        -0.087919        -1.076833        -0.164288   \n",
       "...                 ...              ...              ...              ...   \n",
       "440007        -1.945956         0.555488         0.021860         1.197314   \n",
       "440008         0.186223        -1.677520         2.024273        -0.928553   \n",
       "440009         1.349911        -1.036640        -1.692588        -1.023667   \n",
       "440010        -0.032100         1.335055        -0.005249        -0.374207   \n",
       "440011        -0.732826        -0.447805         0.698346        -0.619014   \n",
       "\n",
       "        word2vec_dim_98  word2vec_dim_99  \n",
       "0             -1.031664        -0.573919  \n",
       "1              1.467134        -0.684520  \n",
       "2             -2.346447        -0.950780  \n",
       "3              0.032879         0.204186  \n",
       "4             -0.389290         0.166869  \n",
       "...                 ...              ...  \n",
       "440007         0.030049         0.199941  \n",
       "440008         0.832682        -1.195462  \n",
       "440009        -1.031664        -0.573919  \n",
       "440010         1.470774        -0.681931  \n",
       "440011        -0.252322        -0.314429  \n",
       "\n",
       "[439557 rows x 122 columns]>"
      ]
     },
     "execution_count": 79,
     "metadata": {},
     "output_type": "execute_result"
    }
   ],
   "source": [
    "df.head"
   ]
  },
  {
   "cell_type": "markdown",
   "id": "68eeceb9-c94b-4779-9009-a82f59617c51",
   "metadata": {},
   "source": [
    "## Split Data\n",
    "\n",
    "    Divide the dataset into training (80%) and testing (20%) sets."
   ]
  },
  {
   "cell_type": "code",
   "execution_count": 80,
   "id": "7f11356e-d703-48b6-a75b-fe30b39aef9c",
   "metadata": {},
   "outputs": [
    {
     "name": "stdout",
     "output_type": "stream",
     "text": [
      "Training samples: 351645, Testing samples: 87912\n"
     ]
    }
   ],
   "source": [
    "from sklearn.model_selection import train_test_split\n",
    "\n",
    "# Define features (X) and target label (y)\n",
    "X = df.drop(columns=['label'])  # Drop the target column\n",
    "y = df['label']  # Target variable\n",
    "\n",
    "# Split the dataset (80% training, 20% testing)\n",
    "X_train, X_test, y_train, y_test = train_test_split(X, y, test_size=0.2, random_state=42, stratify=y)\n",
    "\n",
    "print(f\"Training samples: {len(X_train)}, Testing samples: {len(X_test)}\")\n"
   ]
  },
  {
   "cell_type": "code",
   "execution_count": 81,
   "id": "63d5434c-ecbe-4cc3-bf2c-4549bc6bf1c5",
   "metadata": {},
   "outputs": [
    {
     "name": "stdout",
     "output_type": "stream",
     "text": [
      "X_train shape: (351645, 121)\n",
      "y_train shape: (351645,)\n",
      "X_test shape: (87912, 121)\n",
      "y_test shape: (87912,)\n"
     ]
    }
   ],
   "source": [
    "print(\"X_train shape:\", X_train.shape)\n",
    "print(\"y_train shape:\", y_train.shape)\n",
    "print(\"X_test shape:\", X_test.shape)\n",
    "print(\"y_test shape:\", y_test.shape)\n"
   ]
  },
  {
   "cell_type": "markdown",
   "id": "d559e22e-850a-43e8-9f41-4f10a64fc674",
   "metadata": {},
   "source": [
    "#### Checking for feature scaling"
   ]
  },
  {
   "cell_type": "code",
   "execution_count": 82,
   "id": "9a4171e8-1a42-4012-99c7-fd01f8437b25",
   "metadata": {},
   "outputs": [
    {
     "name": "stdout",
     "output_type": "stream",
     "text": [
      "              sender       receiver           date         label  \\\n",
      "count  439557.000000  439557.000000  439557.000000  439557.00000   \n",
      "mean   219782.167830  219782.007587       1.640907       0.50049   \n",
      "std    126891.077458  126892.005219       0.054610       0.50000   \n",
      "min         0.000000       0.000000       1.546301       0.00000   \n",
      "25%    109892.000000  109890.000000       1.593648       0.00000   \n",
      "50%    219783.000000  219781.000000       1.640995       1.00000   \n",
      "75%    329672.000000  329674.000000       1.688170       1.00000   \n",
      "max    439563.000000  439563.000000       1.735517       1.00000   \n",
      "\n",
      "          url_length      url_depth  has_at_symbol     has_hyphen  \\\n",
      "count  439557.000000  439557.000000  439557.000000  439557.000000   \n",
      "mean       28.465050       2.505304       0.002061       0.123231   \n",
      "std        15.055741       0.754193       0.045353       0.328702   \n",
      "min        14.000000       2.000000       0.000000       0.000000   \n",
      "25%        22.000000       2.000000       0.000000       0.000000   \n",
      "50%        22.000000       2.000000       0.000000       0.000000   \n",
      "75%        30.000000       3.000000       0.000000       0.000000   \n",
      "max      1085.000000      27.000000       1.000000       1.000000   \n",
      "\n",
      "       subdomain_count        is_http  ...  word2vec_dim_90  word2vec_dim_91  \\\n",
      "count    439557.000000  439557.000000  ...    439557.000000    439557.000000   \n",
      "mean          0.390739       0.097102  ...         0.440094         0.466736   \n",
      "std           0.487917       0.296097  ...         1.624555         1.521633   \n",
      "min           0.000000       0.000000  ...        -2.347026        -0.959485   \n",
      "25%           0.000000       0.000000  ...        -1.371718        -0.683019   \n",
      "50%           0.000000       0.000000  ...         1.285623        -0.100233   \n",
      "75%           1.000000       0.000000  ...         2.151704         2.355359   \n",
      "max           1.000000       1.000000  ...         2.476833         3.537520   \n",
      "\n",
      "       word2vec_dim_92  word2vec_dim_93  word2vec_dim_94  word2vec_dim_95  \\\n",
      "count    439557.000000    439557.000000    439557.000000    439557.000000   \n",
      "mean         -0.136453        -0.242199         0.073450        -0.192171   \n",
      "std           0.923079         1.297030         0.961785         0.882441   \n",
      "min          -1.356712        -2.759726        -1.962377        -1.677520   \n",
      "25%          -0.942697        -1.268295        -0.048597        -0.501531   \n",
      "50%           0.200136        -0.326411         0.301834        -0.103117   \n",
      "75%           0.292834         0.858870         1.021092         0.546713   \n",
      "max           1.419921         1.731464         1.349911         1.348914   \n",
      "\n",
      "       word2vec_dim_96  word2vec_dim_97  word2vec_dim_98  word2vec_dim_99  \n",
      "count    439557.000000    439557.000000    439557.000000    439557.000000  \n",
      "mean         -0.393184        -0.275401        -0.214663        -0.468999  \n",
      "std           1.229755         0.647335         1.076598         0.458824  \n",
      "min          -1.692588        -1.023667        -2.346447        -1.195462  \n",
      "25%          -1.612959        -0.628368        -1.031664        -0.697160  \n",
      "50%          -1.073582        -0.281201        -0.227778        -0.573919  \n",
      "75%           0.037989        -0.031669         0.054273         0.144291  \n",
      "max           2.024273         1.220117         1.490221         0.216754  \n",
      "\n",
      "[8 rows x 122 columns]\n"
     ]
    }
   ],
   "source": [
    "print(df.describe())  # Check the range of different features\n"
   ]
  },
  {
   "cell_type": "code",
   "execution_count": 83,
   "id": "de2d58f6-a7e6-4a01-8cf5-85a923924e12",
   "metadata": {},
   "outputs": [
    {
     "name": "stdout",
     "output_type": "stream",
     "text": [
      "                date     url_length      url_depth  has_at_symbol  \\\n",
      "count  351645.000000  351645.000000  351645.000000  351645.000000   \n",
      "mean        1.640913      28.453736       2.505171       0.002028   \n",
      "std         0.054587      15.028584       0.755441       0.044983   \n",
      "min         1.546301      14.000000       2.000000       0.000000   \n",
      "25%         1.593648      22.000000       2.000000       0.000000   \n",
      "50%         1.640995      22.000000       2.000000       0.000000   \n",
      "75%         1.688083      30.000000       3.000000       0.000000   \n",
      "max         1.735517    1085.000000      27.000000       1.000000   \n",
      "\n",
      "          has_hyphen  subdomain_count        is_http  has_redirection  \\\n",
      "count  351645.000000    351645.000000  351645.000000    351645.000000   \n",
      "mean        0.122911         0.390954       0.097118         0.001101   \n",
      "std         0.328335         0.487965       0.296119         0.033156   \n",
      "min         0.000000         0.000000       0.000000         0.000000   \n",
      "25%         0.000000         0.000000       0.000000         0.000000   \n",
      "50%         0.000000         0.000000       0.000000         0.000000   \n",
      "75%         0.000000         1.000000       0.000000         0.000000   \n",
      "max         1.000000         1.000000       1.000000         1.000000   \n",
      "\n",
      "        is_shortened         has_ip  iframe_redirection  \\\n",
      "count  351645.000000  351645.000000            351645.0   \n",
      "mean        0.016161       0.004775                 0.0   \n",
      "std         0.126095       0.068934                 0.0   \n",
      "min         0.000000       0.000000                 0.0   \n",
      "25%         0.000000       0.000000                 0.0   \n",
      "50%         0.000000       0.000000                 0.0   \n",
      "75%         0.000000       0.000000                 0.0   \n",
      "max         1.000000       1.000000                 0.0   \n",
      "\n",
      "       status_bar_customization  disable_right_click  website_forwarding  \\\n",
      "count                  351645.0             351645.0            351645.0   \n",
      "mean                        0.0                  0.0                 0.0   \n",
      "std                         0.0                  0.0                 0.0   \n",
      "min                         0.0                  0.0                 0.0   \n",
      "25%                         0.0                  0.0                 0.0   \n",
      "50%                         0.0                  0.0                 0.0   \n",
      "75%                         0.0                  0.0                 0.0   \n",
      "max                         0.0                  0.0                 0.0   \n",
      "\n",
      "       sender_length  receiver_length  subject_length    body_length  \\\n",
      "count  351645.000000    351645.000000   351645.000000  351645.000000   \n",
      "mean        5.747262         5.746782       20.000981     149.014543   \n",
      "std         0.494916         0.495328        1.000001      24.075579   \n",
      "min         1.000000         1.000000       19.000000     105.000000   \n",
      "25%         6.000000         6.000000       19.000000     141.000000   \n",
      "50%         6.000000         6.000000       21.000000     150.000000   \n",
      "75%         6.000000         6.000000       21.000000     161.000000   \n",
      "max         6.000000         6.000000       21.000000    1212.000000   \n",
      "\n",
      "       phishing_keyword_count  \n",
      "count           351645.000000  \n",
      "mean                 1.027983  \n",
      "std                  1.146678  \n",
      "min                  0.000000  \n",
      "25%                  0.000000  \n",
      "50%                  1.000000  \n",
      "75%                  2.000000  \n",
      "max                  5.000000  \n"
     ]
    }
   ],
   "source": [
    "# Checking numerical feature ranges\n",
    "numeric_features = X_train.select_dtypes(include=['int64', 'float64']).columns\n",
    "print(X_train[numeric_features].describe())\n"
   ]
  },
  {
   "cell_type": "code",
   "execution_count": 84,
   "id": "5e68f388-a2df-425a-ac84-ad6e6299797c",
   "metadata": {},
   "outputs": [
    {
     "name": "stdout",
     "output_type": "stream",
     "text": [
      "Feature scaling applied successfully!\n"
     ]
    }
   ],
   "source": [
    "#from sklearn.preprocessing import StandardScaler\n",
    "\n",
    "# Initialize the scaler\n",
    "scaler = StandardScaler()\n",
    "\n",
    "# Fit and transform the training set, transform the test set\n",
    "X_train[numeric_features] = scaler.fit_transform(X_train[numeric_features])\n",
    "X_test[numeric_features] = scaler.transform(X_test[numeric_features])\n",
    "\n",
    "print(\"Feature scaling applied successfully!\")\n"
   ]
  },
  {
   "cell_type": "markdown",
   "id": "ee609850-7e82-4301-a460-1f4545a9be06",
   "metadata": {},
   "source": [
    "## Build the Deep Neural Network (DNN) Model\n",
    "Use TensorFlow/Keras to create a model with layers such as:\n",
    "        Embedding layer (if using word embeddings).\n",
    "        Dense layers with ReLU activation.\n",
    "        Dropout layers to prevent overfitting.\n",
    "        Final Softmax/Sigmoid layer for binary classification (phishing vs. non-phishing)."
   ]
  },
  {
   "cell_type": "code",
   "execution_count": 85,
   "id": "61fe92dd-81bd-4928-98df-95411ca71833",
   "metadata": {},
   "outputs": [
    {
     "name": "stdout",
     "output_type": "stream",
     "text": [
      "Model: \"sequential\"\n",
      "_________________________________________________________________\n",
      " Layer (type)                Output Shape              Param #   \n",
      "=================================================================\n",
      " dense (Dense)               (None, 512)               62464     \n",
      "                                                                 \n",
      " batch_normalization (BatchN  (None, 512)              2048      \n",
      " ormalization)                                                   \n",
      "                                                                 \n",
      " dropout (Dropout)           (None, 512)               0         \n",
      "                                                                 \n",
      " dense_1 (Dense)             (None, 256)               131328    \n",
      "                                                                 \n",
      " batch_normalization_1 (Batc  (None, 256)              1024      \n",
      " hNormalization)                                                 \n",
      "                                                                 \n",
      " dropout_1 (Dropout)         (None, 256)               0         \n",
      "                                                                 \n",
      " dense_2 (Dense)             (None, 128)               32896     \n",
      "                                                                 \n",
      " batch_normalization_2 (Batc  (None, 128)              512       \n",
      " hNormalization)                                                 \n",
      "                                                                 \n",
      " dropout_2 (Dropout)         (None, 128)               0         \n",
      "                                                                 \n",
      " dense_3 (Dense)             (None, 1)                 129       \n",
      "                                                                 \n",
      "=================================================================\n",
      "Total params: 230,401\n",
      "Trainable params: 228,609\n",
      "Non-trainable params: 1,792\n",
      "_________________________________________________________________\n"
     ]
    },
    {
     "name": "stderr",
     "output_type": "stream",
     "text": [
      "2025-02-12 16:05:13.129635: I tensorflow/core/common_runtime/process_util.cc:146] Creating new thread pool with default inter op setting: 2. Tune using inter_op_parallelism_threads for best performance.\n"
     ]
    }
   ],
   "source": [
    "# 1st experimanet main data working \n",
    "import tensorflow as tf\n",
    "from tensorflow.keras.models import Sequential\n",
    "from tensorflow.keras.layers import Embedding, Dense, Dropout, Flatten, BatchNormalization\n",
    "from tensorflow.keras.optimizers import Adam\n",
    "from tensorflow.keras.callbacks import EarlyStopping\n",
    "\n",
    "\n",
    "# Define model parameters\n",
    "input_dim = X_train.shape[1]  # Number of features\n",
    "embedding_dim = 128  # Size of word embedding (if applicable)\n",
    "dropout_rate = 0.5 # Dropout to prevent overfitting\n",
    "\n",
    "# Build the DNN model\n",
    "model = Sequential([\n",
    "    Dense(512, activation='relu', input_shape=(input_dim,)),\n",
    "    BatchNormalization(),  \n",
    "    Dropout(dropout_rate),\n",
    "\n",
    "    Dense(256, activation='relu'),\n",
    "    BatchNormalization(),\n",
    "    Dropout(dropout_rate),\n",
    "\n",
    "    Dense(128, activation='relu'),\n",
    "    BatchNormalization(),\n",
    "    Dropout(dropout_rate),\n",
    "\n",
    "   Dense(1, activation='sigmoid')  # Binary classification (phishing vs non-phishing)\n",
    "])\n",
    "\n",
    "# Compile the model\n",
    "model.compile(optimizer=Adam(learning_rate=0.001),\n",
    "              loss='binary_crossentropy',\n",
    "              metrics=['accuracy'])\n",
    "\n",
    "# Model Summary\n",
    "model.summary()\n"
   ]
  },
  {
   "cell_type": "code",
   "execution_count": 86,
   "id": "daca07a8-02ac-482a-8752-8be2d49743e7",
   "metadata": {},
   "outputs": [],
   "source": [
    "#2nd experiement of model with l1/l2 regularization\n",
    "\n",
    "#from tensorflow.keras.models import Sequential\n",
    "#from tensorflow.keras.layers import Dense, Dropout\n",
    "#from tensorflow.keras.regularizers import l1, l2, l1_l2\n",
    "\n",
    "# Example of a Sequential model with L1/L2 regularization and Dropout\n",
    "#def create_model(input_dim):\n",
    "#    model = Sequential()\n",
    "\n",
    "    # Input layer with L2 regularization\n",
    "#    model.add(Dense(64, input_dim=input_dim, activation='relu', kernel_regularizer=l2(0.01)))\n",
    "    \n",
    "    # Dropout after the first layer\n",
    "#    model.add(Dropout(0.5))\n",
    "    \n",
    "    # Hidden layer with L1/L2 regularization\n",
    "#    model.add(Dense(32, activation='relu', kernel_regularizer=l1_l2(l1=0.001, l2=0.01)))\n",
    "    \n",
    "    # Dropout after the second layer\n",
    "#    model.add(Dropout(0.5))\n",
    "    \n",
    "    # Output layer\n",
    "#    model.add(Dense(1, activation='sigmoid'))  # Assuming binary classification\n",
    "\n",
    "    # Compile the model\n",
    "#    model.compile(optimizer='adam', loss='binary_crossentropy', metrics=['accuracy'])\n",
    "\n",
    "#    return model\n",
    "\n",
    "# Create the model\n",
    "#input_dim = X_train.shape[1]  # Number of features\n",
    "#model = create_model(input_dim)\n",
    "\n",
    "# Summary of the model\n",
    "#model.summary()\n"
   ]
  },
  {
   "cell_type": "code",
   "execution_count": 87,
   "id": "e3b6e368-2f1e-4aab-a27e-e9ab773642fe",
   "metadata": {},
   "outputs": [],
   "source": [
    "#3rd modele with batch normalization\n",
    "\n",
    "#from tensorflow.keras.models import Sequential\n",
    "#from tensorflow.keras.layers import Dense, Dropout, BatchNormalization\n",
    "#from tensorflow.keras.regularizers import l2\n",
    "\n",
    "# Example of a model with Batch Normalization, Dropout, and Regularization\n",
    "#def create_model_with_batch_norm(input_dim):\n",
    "#    model = Sequential()\n",
    "\n",
    "    # Input layer with Batch Normalization and L2 Regularization\n",
    "#    model.add(Dense(64, input_dim=input_dim, activation='relu', kernel_regularizer=l2(0.01)))\n",
    "#    model.add(BatchNormalization())  # Batch normalization after the Dense layer\n",
    "#    model.add(Dropout(0.5))  # Dropout to reduce overfitting\n",
    "\n",
    "    # Hidden layer with Batch Normalization\n",
    "#    model.add(Dense(32, activation='relu', kernel_regularizer=l2(0.01)))\n",
    "#    model.add(BatchNormalization())  # Batch normalization\n",
    "#    model.add(Dropout(0.5))  # Dropout\n",
    "\n",
    "    # Output layer\n",
    "#    model.add(Dense(1, activation='sigmoid'))  # Assuming binary classification\n",
    "\n",
    "    # Compile the model\n",
    "#    model.compile(optimizer='adam', loss='binary_crossentropy', metrics=['accuracy'])\n",
    "\n",
    "#    return model\n",
    "\n",
    "# Create the model\n",
    "#input_dim = X_train.shape[1]  # Number of features\n",
    "#model = create_model_with_batch_norm(input_dim)\n",
    "\n",
    "# Summary of the model\n",
    "#model.summary()\n"
   ]
  },
  {
   "cell_type": "code",
   "execution_count": 88,
   "id": "0f8f0dad-7f8e-458c-b91b-4fb27e6fca85",
   "metadata": {},
   "outputs": [
    {
     "name": "stdout",
     "output_type": "stream",
     "text": [
      "sender             0\n",
      "receiver           0\n",
      "date               0\n",
      "url_length         0\n",
      "url_depth          0\n",
      "                  ..\n",
      "word2vec_dim_95    0\n",
      "word2vec_dim_96    0\n",
      "word2vec_dim_97    0\n",
      "word2vec_dim_98    0\n",
      "word2vec_dim_99    0\n",
      "Length: 121, dtype: int64\n",
      "sender             0\n",
      "receiver           0\n",
      "date               0\n",
      "url_length         0\n",
      "url_depth          0\n",
      "                  ..\n",
      "word2vec_dim_95    0\n",
      "word2vec_dim_96    0\n",
      "word2vec_dim_97    0\n",
      "word2vec_dim_98    0\n",
      "word2vec_dim_99    0\n",
      "Length: 121, dtype: int64\n"
     ]
    }
   ],
   "source": [
    "print(X_train.isnull().sum())  # Check for NaN values\n",
    "print(X_test.isnull().sum())\n"
   ]
  },
  {
   "cell_type": "code",
   "execution_count": 89,
   "id": "e5408eab-438c-4b9a-bd12-e8f023673087",
   "metadata": {},
   "outputs": [
    {
     "name": "stdout",
     "output_type": "stream",
     "text": [
      "sender               int32\n",
      "receiver             int32\n",
      "date               float64\n",
      "url_length         float64\n",
      "url_depth          float64\n",
      "                    ...   \n",
      "word2vec_dim_95    float32\n",
      "word2vec_dim_96    float32\n",
      "word2vec_dim_97    float32\n",
      "word2vec_dim_98    float32\n",
      "word2vec_dim_99    float32\n",
      "Length: 121, dtype: object\n"
     ]
    }
   ],
   "source": [
    "print(X_train.dtypes)  # Check data types of all columns\n"
   ]
  },
  {
   "cell_type": "code",
   "execution_count": 90,
   "id": "f89c75f7-c894-4be1-87d8-9b0da5ba19cf",
   "metadata": {},
   "outputs": [],
   "source": [
    "# Drop the 'urls' column\n",
    "#X_train = X_train.drop(columns=['urls'])\n",
    "#X_test = X_test.drop(columns=['urls'])\n"
   ]
  },
  {
   "cell_type": "code",
   "execution_count": 91,
   "id": "35563492-f9e2-4aab-b404-a2a5808b8415",
   "metadata": {},
   "outputs": [
    {
     "name": "stdout",
     "output_type": "stream",
     "text": [
      "X_train shape: (351645, 121)\n",
      "y_train shape: (351645,)\n",
      "X_test shape: (87912, 121)\n",
      "y_test shape: (87912,)\n"
     ]
    }
   ],
   "source": [
    "print(\"X_train shape:\", X_train.shape)\n",
    "print(\"y_train shape:\", y_train.shape)\n",
    "print(\"X_test shape:\", X_test.shape)\n",
    "print(\"y_test shape:\", y_test.shape)\n"
   ]
  },
  {
   "cell_type": "code",
   "execution_count": 92,
   "id": "cacf8283-38dc-41ef-b9fc-460382e598d5",
   "metadata": {},
   "outputs": [],
   "source": [
    "#new code just for testing the data before trainng . weill be removed aftert hat\n",
    "\n",
    "import numpy as np\n",
    "\n",
    "# Convert feature matrices to NumPy arrays of type float32\n",
    "X_train = np.array(X_train, dtype=np.float32)\n",
    "X_test = np.array(X_test, dtype=np.float32)\n",
    "\n",
    "# Ensure labels are converted to NumPy arrays, typically int for classification tasks\n",
    "y_train = np.array(y_train, dtype=np.int32)\n",
    "y_test = np.array(y_test, dtype=np.int32)\n"
   ]
  },
  {
   "cell_type": "markdown",
   "id": "284bb086-106b-4447-a7d2-a91f5386b951",
   "metadata": {},
   "source": [
    "## Compile and Train the Model\n",
    "\n",
    "    Use binary cross-entropy loss.\n",
    "    Use Adam optimizer.\n",
    "    Train the model with batch normalization and early stopping."
   ]
  },
  {
   "cell_type": "code",
   "execution_count": 93,
   "id": "0fb89b01-4662-4318-9eac-ed29d15a8498",
   "metadata": {},
   "outputs": [],
   "source": [
    "model.compile(\n",
    "    optimizer=Adam(learning_rate=0.001),  # Adam optimizer\n",
    "    loss='binary_crossentropy',  # Binary classification loss\n",
    "    metrics=['accuracy']  # Track accuracy during training\n",
    ")"
   ]
  },
  {
   "cell_type": "markdown",
   "id": "fc91d35e-cc69-42c1-b89d-687edd64feee",
   "metadata": {},
   "source": [
    "## Set up early stopping"
   ]
  },
  {
   "cell_type": "code",
   "execution_count": 94,
   "id": "d185b79d-0f64-4631-9d71-7204a424a4bf",
   "metadata": {},
   "outputs": [],
   "source": [
    "# Define early stopping to prevent overfitting\n",
    "early_stopping = EarlyStopping(monitor='val_loss', patience=5, restore_best_weights=True)\n"
   ]
  },
  {
   "cell_type": "markdown",
   "id": "5e30e996-ca7e-4791-8037-d312a88d0c6b",
   "metadata": {},
   "source": [
    "## Train the model"
   ]
  },
  {
   "cell_type": "code",
   "execution_count": 95,
   "id": "635553d3-074a-4655-a387-5564249ecdc8",
   "metadata": {},
   "outputs": [
    {
     "name": "stdout",
     "output_type": "stream",
     "text": [
      "Epoch 1/20\n",
      "10989/10989 [==============================] - 26s 2ms/step - loss: 0.7035 - accuracy: 0.4993 - val_loss: 0.6937 - val_accuracy: 0.4986\n",
      "Epoch 2/20\n",
      "10989/10989 [==============================] - 27s 2ms/step - loss: 0.6946 - accuracy: 0.5011 - val_loss: 0.6946 - val_accuracy: 0.4987\n",
      "Epoch 3/20\n",
      "10989/10989 [==============================] - 27s 2ms/step - loss: 0.6937 - accuracy: 0.5002 - val_loss: 0.6932 - val_accuracy: 0.5009\n",
      "Epoch 4/20\n",
      "10989/10989 [==============================] - 27s 2ms/step - loss: 0.6934 - accuracy: 0.5009 - val_loss: 0.6932 - val_accuracy: 0.5015\n",
      "Epoch 5/20\n",
      "10989/10989 [==============================] - 26s 2ms/step - loss: 0.6933 - accuracy: 0.5008 - val_loss: 0.6933 - val_accuracy: 0.4995\n",
      "Epoch 6/20\n",
      "10989/10989 [==============================] - 26s 2ms/step - loss: 0.6934 - accuracy: 0.4994 - val_loss: 0.6935 - val_accuracy: 0.5001\n",
      "Epoch 7/20\n",
      "10989/10989 [==============================] - 26s 2ms/step - loss: 0.6934 - accuracy: 0.4992 - val_loss: 0.6933 - val_accuracy: 0.4982\n",
      "Epoch 8/20\n",
      "10989/10989 [==============================] - 26s 2ms/step - loss: 0.6934 - accuracy: 0.4999 - val_loss: 0.6936 - val_accuracy: 0.4975\n",
      "Epoch 9/20\n",
      "10989/10989 [==============================] - 26s 2ms/step - loss: 0.6934 - accuracy: 0.5002 - val_loss: 0.6932 - val_accuracy: 0.4980\n"
     ]
    }
   ],
   "source": [
    "# main Train the model\n",
    "history = model.fit(\n",
    "    X_train, y_train,\n",
    "    epochs=20,\n",
    "    batch_size=32,\n",
    "    validation_data=(X_test, y_test),\n",
    "    callbacks=[early_stopping]\n",
    ")\n"
   ]
  },
  {
   "cell_type": "markdown",
   "id": "c6d724d5-558b-419b-a0e2-735fe12904c8",
   "metadata": {},
   "source": [
    "## Evaluate the Model\n",
    "\n",
    "    Check accuracy, precision, recall, and F1-score.\n",
    "    Use confusion matrix and ROC-AUC curve to analyze performance."
   ]
  },
  {
   "cell_type": "markdown",
   "id": "44ef93f0-785b-4c84-a457-fa495b401ae6",
   "metadata": {},
   "source": [
    "### Checking Training Accuracy \n"
   ]
  },
  {
   "cell_type": "code",
   "execution_count": 96,
   "id": "2ad3463d-e9b1-42d4-82a7-273c8edc0b27",
   "metadata": {},
   "outputs": [
    {
     "name": "stdout",
     "output_type": "stream",
     "text": [
      "Final Training Accuracy: 50.02%\n",
      "Final Validation Accuracy: 49.80%\n"
     ]
    }
   ],
   "source": [
    "final_train_accuracy = history.history['accuracy'][-1]\n",
    "final_val_accuracy = history.history['val_accuracy'][-1]\n",
    "print(f\"Final Training Accuracy: {final_train_accuracy * 100:.2f}%\")\n",
    "print(f\"Final Validation Accuracy: {final_val_accuracy * 100:.2f}%\")\n"
   ]
  },
  {
   "cell_type": "markdown",
   "id": "c0f85fe4-7bea-4d15-a3ba-13b4f8dba963",
   "metadata": {},
   "source": [
    "### Testing Accuracy"
   ]
  },
  {
   "cell_type": "code",
   "execution_count": 97,
   "id": "312ff6d1-7d4a-49e7-b2c3-2f2d5879a969",
   "metadata": {},
   "outputs": [
    {
     "name": "stdout",
     "output_type": "stream",
     "text": [
      "Test Loss: 0.6932, Test Accuracy: 0.5015\n"
     ]
    }
   ],
   "source": [
    "loss, accuracy = model.evaluate(X_test, y_test, verbose=0)\n",
    "print(f\"Test Loss: {loss:.4f}, Test Accuracy: {accuracy:.4f}\")\n"
   ]
  },
  {
   "cell_type": "markdown",
   "id": "83d53c02-e8f3-46a3-b9d1-dfefd18530b2",
   "metadata": {},
   "source": [
    "## Performance matrices of the model"
   ]
  },
  {
   "cell_type": "code",
   "execution_count": 98,
   "id": "330916c6-e99f-466b-81fa-958a895d4df5",
   "metadata": {},
   "outputs": [
    {
     "name": "stdout",
     "output_type": "stream",
     "text": [
      "2748/2748 [==============================] - 2s 538us/step\n",
      "Accuracy: 0.50\n",
      "F1-Score: 0.54\n",
      "Matthews Correlation Coefficient (MCC): 0.00\n",
      "AUC-PR: 0.50\n",
      "AUC-ROC: 0.50\n",
      "\n",
      "Confusion Matrix:\n",
      "[[18121 25792]\n",
      " [18035 25964]]\n"
     ]
    },
    {
     "data": {
      "image/png": "[encoded data removed]",
      "text/plain": [
       "<Figure size 1200x600 with 4 Axes>"
      ]
     },
     "metadata": {},
     "output_type": "display_data"
    },
    {
     "name": "stdout",
     "output_type": "stream",
     "text": [
      "\n",
      "Classification Report:\n",
      "              precision    recall  f1-score   support\n",
      "\n",
      "     Class 0       0.50      0.41      0.45     43913\n",
      "     Class 1       0.50      0.59      0.54     43999\n",
      "\n",
      "    accuracy                           0.50     87912\n",
      "   macro avg       0.50      0.50      0.50     87912\n",
      "weighted avg       0.50      0.50      0.50     87912\n",
      "\n"
     ]
    }
   ],
   "source": [
    "import numpy as np\n",
    "from sklearn.metrics import (\n",
    "    accuracy_score,\n",
    "    f1_score,\n",
    "    precision_recall_curve,\n",
    "    roc_curve,\n",
    "    roc_auc_score,\n",
    "    auc,\n",
    "    matthews_corrcoef,\n",
    "    confusion_matrix,\n",
    "    classification_report\n",
    ")\n",
    "import matplotlib.pyplot as plt\n",
    "import seaborn as sns\n",
    "\n",
    "# Predict probabilities\n",
    "y_pred_proba = model.predict(X_test)  # Predicted probabilities for the positive class\n",
    "y_pred = (y_pred_proba > 0.5).astype(int)  # Convert probabilities to binary predictions\n",
    "\n",
    "# Accuracy\n",
    "accuracy = accuracy_score(y_test, y_pred)\n",
    "print(f\"Accuracy: {accuracy:.2f}\")\n",
    "\n",
    "# F1-Score\n",
    "f1 = f1_score(y_test, y_pred)\n",
    "print(f\"F1-Score: {f1:.2f}\")\n",
    "\n",
    "# Matthews Correlation Coefficient (MCC)\n",
    "mcc = matthews_corrcoef(y_test, y_pred)\n",
    "print(f\"Matthews Correlation Coefficient (MCC): {mcc:.2f}\")\n",
    "\n",
    "# AUC-PR (Precision-Recall Curve)\n",
    "precision, recall, pr_thresholds = precision_recall_curve(y_test, y_pred_proba)\n",
    "auc_pr = auc(recall, precision)\n",
    "print(f\"AUC-PR: {auc_pr:.2f}\")\n",
    "\n",
    "# AUC-ROC (Receiver Operating Characteristic Curve)\n",
    "fpr, tpr, roc_thresholds = roc_curve(y_test, y_pred_proba)\n",
    "auc_roc = roc_auc_score(y_test, y_pred_proba)\n",
    "print(f\"AUC-ROC: {auc_roc:.2f}\")\n",
    "\n",
    "# Confusion Matrix\n",
    "cm = confusion_matrix(y_test, y_pred)\n",
    "print(\"\\nConfusion Matrix:\")\n",
    "print(cm)\n",
    "\n",
    "# Plot Confusion Matrix as a Heatmap\n",
    "plt.figure(figsize=(12, 6))\n",
    "plt.subplot(1, 3, 1)\n",
    "sns.heatmap(cm, annot=True, fmt='d', cmap='Blues', xticklabels=[\"Class 0\", \"Class 1\"], yticklabels=[\"Class 0\", \"Class 1\"])\n",
    "plt.title(\"Confusion Matrix\")\n",
    "plt.xlabel(\"Predicted\")\n",
    "plt.ylabel(\"Actual\")\n",
    "\n",
    "# Plot Precision-Recall Curve\n",
    "plt.subplot(1, 3, 2)\n",
    "plt.plot(recall, precision, marker='.', label=f\"AUC-PR = {auc_pr:.2f}\")\n",
    "plt.title(\"Precision-Recall Curve\")\n",
    "plt.xlabel(\"Recall\")\n",
    "plt.ylabel(\"Precision\")\n",
    "plt.legend()\n",
    "plt.grid()\n",
    "\n",
    "# Plot ROC Curve\n",
    "plt.subplot(1, 3, 3)\n",
    "plt.plot(fpr, tpr, marker='.', label=f\"AUC-ROC = {auc_roc:.2f}\")\n",
    "plt.title(\"ROC Curve\")\n",
    "plt.xlabel(\"False Positive Rate\")\n",
    "plt.ylabel(\"True Positive Rate\")\n",
    "plt.legend()\n",
    "plt.grid()\n",
    "\n",
    "plt.tight_layout()\n",
    "plt.show()\n",
    "\n",
    "# Classification Report\n",
    "print(\"\\nClassification Report:\")\n",
    "print(classification_report(y_test, y_pred, target_names=[\"Class 0\", \"Class 1\"]))\n"
   ]
  },
  {
   "cell_type": "markdown",
   "id": "7bf13d11-6901-4c81-b4aa-5e80d5f6c1e9",
   "metadata": {},
   "source": [
    "## Save the Trained Model"
   ]
  },
  {
   "cell_type": "code",
   "execution_count": 99,
   "id": "ee8816b3-66a8-4aa5-bba7-e62427f2e66f",
   "metadata": {},
   "outputs": [],
   "source": [
    "import os\n",
    "from datetime import datetime\n",
    "\n",
    "# Generate a timestamp\n",
    "timestamp = datetime.now().strftime(\"%Y%m%d_%H%M%S\")\n",
    "\n",
    "# Ensure the \"saved_models\" directory exists\n",
    "os.makedirs(\"saved_models\", exist_ok=True)\n",
    "# Save the model with the timestamp in the filename\n",
    "model.save(f\"saved_models/Phishing_Email_Classifier_Model_{timestamp}.h5\")"
   ]
  },
  {
   "cell_type": "markdown",
   "id": "2f4eab3d-48a8-49fd-bbe4-7ef483cf0fac",
   "metadata": {},
   "source": [
    "## Save the Cleaned Dataset"
   ]
  },
  {
   "cell_type": "code",
   "execution_count": 100,
   "id": "37630044-2a37-4643-83f7-83ae9d02b2af",
   "metadata": {},
   "outputs": [],
   "source": [
    "# Save the DataFrame to a CSV file with the timestamp in the filename\n",
    "import os\n",
    "from datetime import datetime\n",
    "\n",
    "# Generate a timestamp\n",
    "timestamp = datetime.now().strftime(\"%Y%m%d_%H%M%S\")\n",
    "\n",
    "# Ensure the \"saved_models\" directory exists\n",
    "os.makedirs(\"saved_data\", exist_ok=True)\n",
    "df.to_csv(f\"saved_data/Final_Cleaned_Data_{timestamp}.csv\", index=False)\n"
   ]
  },
  {
   "cell_type": "markdown",
   "id": "2f29ec46-68a5-41e3-b4a9-f889b8a26a18",
   "metadata": {},
   "source": [
    "## Deploy the Model (Optional)\n",
    "\n",
    "    Convert the model to a TensorFlow SavedModel or ONNX for deployment.\n",
    "    Integrate with a web API or email security system."
   ]
  },
  {
   "cell_type": "markdown",
   "id": "c394350f-930c-4354-a557-faeab5af6edc",
   "metadata": {},
   "source": [
    "## Demo app building"
   ]
  },
  {
   "cell_type": "code",
   "execution_count": null,
   "id": "26abd4fb-77c6-4b70-ba71-470b72d08a6d",
   "metadata": {},
   "outputs": [],
   "source": []
  },
  {
   "cell_type": "code",
   "execution_count": null,
   "id": "e68da54d-80d6-425e-9113-ef7fa8f5fb0d",
   "metadata": {},
   "outputs": [],
   "source": []
  },
  {
   "cell_type": "code",
   "execution_count": null,
   "id": "722cbfe5-8a11-4752-9ba0-592f6375617b",
   "metadata": {},
   "outputs": [],
   "source": []
  },
  {
   "cell_type": "code",
   "execution_count": null,
   "id": "3464fdb7-3f40-4418-842d-f2e336abfe57",
   "metadata": {},
   "outputs": [],
   "source": []
  },
  {
   "cell_type": "code",
   "execution_count": null,
   "id": "5b2b81a0-ec66-4a58-9061-82db861b552f",
   "metadata": {},
   "outputs": [],
   "source": []
  },
  {
   "cell_type": "code",
   "execution_count": null,
   "id": "4bb0115d-904b-4c30-8c7d-5eb6428ebf1e",
   "metadata": {},
   "outputs": [],
   "source": []
  },
  {
   "cell_type": "code",
   "execution_count": null,
   "id": "5ae700e9-df5c-4860-8149-368f34537071",
   "metadata": {},
   "outputs": [],
   "source": []
  },
  {
   "cell_type": "code",
   "execution_count": null,
   "id": "9c9e96a2-2b70-4ea8-91b9-2c213d5e62ed",
   "metadata": {},
   "outputs": [],
   "source": []
  },
  {
   "cell_type": "markdown",
   "id": "84ac9ddb-65bc-4b97-8a09-b46c3cdb373e",
   "metadata": {},
   "source": [
    "#### On the app showdetales of feature extractio details like:\n",
    "    1. Address Bar based Features \n",
    "    • Domain of URL \n",
    "    • IP Address in URL \n",
    "    • \"@\" Symbol in URL \n",
    "    • Length of URL \n",
    "    • Depth of URL \n",
    "    • Redirection \"//\" in URL \n",
    "    • \"http/https\" in Domain name \n",
    "    • Using URL Shortening Services “TinyURL” \n",
    "    • Prefix or Suffix \"-\" in Domain\n",
    "    2. Domain based Features \n",
    "        ◦ DNS Record \n",
    "        ◦ Website Traffic \n",
    "        ◦ Age of Domain \n",
    "        ◦ End Period of Domain \n",
    "    3. HTML & Javascript based Features \n",
    "    • IFrame Redirection \n",
    "    • Status Bar Customization \n",
    "    • Disabling Right Click \n",
    "    • Website Forwarding \n",
    "\n",
    "Phishing database lookup"
   ]
  },
  {
   "cell_type": "code",
   "execution_count": null,
   "id": "4a31e238-b573-490c-932c-08e2ba92a18c",
   "metadata": {},
   "outputs": [],
   "source": []
  }
 ],
 "metadata": {
  "kernelspec": {
   "display_name": "Python 3 (ipykernel)",
   "language": "python",
   "name": "python3"
  },
  "language_info": {
   "codemirror_mode": {
    "name": "ipython",
    "version": 3
   },
   "file_extension": ".py",
   "mimetype": "text/x-python",
   "name": "python",
   "nbconvert_exporter": "python",
   "pygments_lexer": "ipython3",
   "version": "3.10.13"
  }
 },
 "nbformat": 4,
 "nbformat_minor": 5
}
